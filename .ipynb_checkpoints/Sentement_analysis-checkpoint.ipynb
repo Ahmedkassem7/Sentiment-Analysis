{
 "cells": [
  {
   "cell_type": "markdown",
   "id": "502bd47a",
   "metadata": {},
   "source": [
    "\n",
    "<img style = \"width:100%; height: 80%;\" src = \"https://s01.sgp1.cdn.digitaloceanspaces.com/article/107360-byxhzxvmlb-1544009839.jpg\" />\n",
    "<body bgcolor = \"black\">\n",
    "<img style=\"width:80px; height:80px;float:left;\" src = \"https://i.pinimg.com/originals/90/c6/69/90c6698dc6f9e00bb32ffb3e21042474.gif\" /><img style=\"width:80px; height:80px;float:right;\" src = \"https://acegif.com/wp-content/gif/laughing-emoji-3.gif\" /><center><img style=\"width:auto; height:auto;\" src = \"https://raw.githubusercontent.com/AlikMon88/FillerStack-repo/ebb777f8f116d4a79e69c67705179b641328ed42/extra/transformers.gif\" /></center> \n",
    "</body>"
   ]
  },
  {
   "cell_type": "markdown",
   "id": "0bf2d9c2",
   "metadata": {},
   "source": [
    "## <font color='#3f51b5'>1.Import Libraries </font> "
   ]
  },
  {
   "cell_type": "code",
   "execution_count": 163,
   "id": "c19558b4",
   "metadata": {},
   "outputs": [],
   "source": [
    "from string import punctuation\n",
    "from nltk.tokenize import word_tokenize\n",
    "from nltk.corpus import stopwords\n",
    "from nltk.stem import PorterStemmer\n",
    "from nltk.stem import SnowballStemmer\n",
    "from nltk.stem import WordNetLemmatizer\n",
    "##########################################################\n",
    "from sklearn.feature_extraction.text import CountVectorizer\n",
    "from sklearn.feature_extraction.text import TfidfVectorizer\n",
    "import pandas as pd \n",
    "import numpy as np\n",
    "import matplotlib.pyplot as plt\n",
    "from sklearn.naive_bayes import MultinomialNB\n",
    "from sklearn.metrics import precision_score, recall_score, accuracy_score,confusion_matrix,classification_report\n",
    "from sklearn.ensemble import RandomForestClassifier\n",
    "from sklearn import tree"
   ]
  },
  {
   "cell_type": "code",
   "execution_count": 164,
   "id": "e35f768b",
   "metadata": {},
   "outputs": [],
   "source": [
    "import warnings\n",
    "warnings.filterwarnings('ignore')"
   ]
  },
  {
   "cell_type": "markdown",
   "id": "5c4ec5ed",
   "metadata": {},
   "source": [
    "## <font color='#3f51b5'>2.Data Loading For Traning </font> "
   ]
  },
  {
   "cell_type": "code",
   "execution_count": 165,
   "id": "19a367e2",
   "metadata": {},
   "outputs": [
    {
     "name": "stdout",
     "output_type": "stream",
     "text": [
      "['i didnt feel humiliated', 'i can go from feeling so hopeless to so damned hopeful just from being around someone who cares and is awake', 'im grabbing a minute to post i feel greedy wrong', 'i am ever feeling nostalgic about the fireplace i will know that it is still on the property', 'i am feeling grouchy', 'ive been feeling a little burdened lately wasnt sure why that was', 'ive been taking or milligrams or times recommended amount and ive fallen asleep a lot faster but i also feel like so funny', 'i feel as confused about life as a teenager or as jaded as a year old man', 'i have been with petronas for years i feel that petronas has performed well and made a huge profit', 'i feel romantic too']\n",
      "**************************************************\n",
      "['sadness', 'sadness', 'anger', 'love', 'anger', 'sadness', 'surprise', 'fear', 'joy', 'love']\n"
     ]
    }
   ],
   "source": [
    "file = open('train.txt', 'r')\n",
    "x_train = []\n",
    "y_train = []\n",
    "for line in file:\n",
    "    l = line.split(';')\n",
    "    x_train.append(l[0])\n",
    "    y_train.append(l[1].strip())\n",
    "print(x_train[0:10])\n",
    "print(50*'*')\n",
    "print(y_train[0:10])\n",
    "file.close()"
   ]
  },
  {
   "cell_type": "markdown",
   "id": "4a73ba41",
   "metadata": {},
   "source": [
    "## <font color='#3f51b5'>3. Data Loading For Testing </font> "
   ]
  },
  {
   "cell_type": "code",
   "execution_count": 166,
   "id": "a257aa3f",
   "metadata": {},
   "outputs": [
    {
     "name": "stdout",
     "output_type": "stream",
     "text": [
      "['sadness', 'sadness', 'sadness', 'joy', 'sadness', 'fear', 'anger', 'joy', 'joy', 'anger']\n",
      "**************************************************\n",
      "['im feeling rather rotten so im not very ambitious right now', 'im updating my blog because i feel shitty', 'i never make her separate from me because i don t ever want her to feel like i m ashamed with her', 'i left with my bouquet of red and yellow tulips under my arm feeling slightly more optimistic than when i arrived', 'i was feeling a little vain when i did this one', 'i cant walk into a shop anywhere where i do not feel uncomfortable', 'i felt anger when at the end of a telephone call', 'i explain why i clung to a relationship with a boy who was in many ways immature and uncommitted despite the excitement i should have been feeling for getting accepted into the masters program at the university of virginia', 'i like to have the same breathless feeling as a reader eager to see what will happen next', 'i jest i feel grumpy tired and pre menstrual which i probably am but then again its only been a week and im about as fit as a walrus on vacation for the summer']\n"
     ]
    }
   ],
   "source": [
    "file=open('test.txt','r')\n",
    "x_test=[]\n",
    "y_test=[]\n",
    "for line in file: \n",
    "    l=line.split(';')\n",
    "    x_test.append(l[0])\n",
    "    y_test.append(l[1].strip())\n",
    "print(y_test[0:10])\n",
    "print(50*'*')\n",
    "print(x_test[0:10])\n",
    "file.close()"
   ]
  },
  {
   "cell_type": "code",
   "execution_count": 167,
   "id": "c65b9f26",
   "metadata": {},
   "outputs": [],
   "source": [
    "x_data = x_train + x_test\n",
    "y_data = y_train + y_test"
   ]
  },
  {
   "cell_type": "code",
   "execution_count": 168,
   "id": "0c1bf5ee",
   "metadata": {},
   "outputs": [
    {
     "data": {
      "image/png": "[encoded data removed]",
      "text/plain": [
       "<Figure size 1400x800 with 1 Axes>"
      ]
     },
     "metadata": {},
     "output_type": "display_data"
    }
   ],
   "source": [
    "df = pd.DataFrame({'Sentiment': y_data})\n",
    "#| sentiment |\n",
    "#   y_data\n",
    "#print(df['Sentiment'])\n",
    "# Plot the pie chart\n",
    "plt.figure(figsize=(14,8))\n",
    "df['Sentiment'].value_counts().plot(kind = 'bar')\n",
    "plt.show()"
   ]
  },
  {
   "cell_type": "code",
   "execution_count": 169,
   "id": "24f1a595",
   "metadata": {},
   "outputs": [],
   "source": [
    "import imblearn"
   ]
  },
  {
   "cell_type": "code",
   "execution_count": 170,
   "id": "2a25c243",
   "metadata": {},
   "outputs": [],
   "source": [
    "from collections import Counter"
   ]
  },
  {
   "cell_type": "markdown",
   "id": "a6e4549e",
   "metadata": {},
   "source": [
    "## <font color='#3f51b5'>4. Preprocessing </font> "
   ]
  },
  {
   "cell_type": "code",
   "execution_count": 171,
   "id": "207bf700",
   "metadata": {},
   "outputs": [],
   "source": [
    "class Preprocessing:\n",
    "    def __init__(self, data):\n",
    "        self.txt = data\n",
    "#*************************************#\n",
    "    def remove_punctuation(self):\n",
    "        punc = list(punctuation)\n",
    "        remove_pun = []\n",
    "        for sentence in self.txt:\n",
    "            new_sentence = ''\n",
    "            for char in sentence:\n",
    "                if char not in punc:\n",
    "                    new_sentence += char\n",
    "            remove_pun.append(new_sentence)\n",
    "        self.txt = remove_pun\n",
    "        #print(self.txt)\n",
    "#*************************************#  \n",
    "    def Word_Tokenization(self):\n",
    "        tokenized_sentences = []\n",
    "        for sentence in self.txt:\n",
    "            tokens = word_tokenize(sentence)\n",
    "            tokenized_sentences.append(tokens)\n",
    "        self.txt = tokenized_sentences\n",
    "        #print(self.txt)\n",
    "#*************************************#\n",
    "    def remove_stop_words(self):\n",
    "        stop_words = stopwords.words('english')\n",
    "        filtered_sentences = []\n",
    "        for sentence in self.txt:\n",
    "            filtered_words = []\n",
    "            for word in sentence:\n",
    "                if word.lower() not in stop_words:\n",
    "                    filtered_words.append(word.lower())\n",
    "            filtered_sentences.append(filtered_words)\n",
    "        self.txt = filtered_sentences\n",
    "        #print(self.txt)\n",
    "#*************************************#\n",
    "    def snowball_stemmer(self):\n",
    "        ps = SnowballStemmer(language='english')\n",
    "        snowball_sentences = []\n",
    "        for sentence in self.txt:\n",
    "            snowball_words = []\n",
    "            for word in sentence:\n",
    "                snowball_words.append(ps.stem(word))\n",
    "            snowball_sentences.append(snowball_words)\n",
    "        self.txt = snowball_sentences\n",
    "        #print(self.txt)\n",
    "#*************************************#\n",
    "    def lemmatization(self):\n",
    "        lemmatizer=WordNetLemmatizer()\n",
    "        lemma_sentences = []\n",
    "        for sentence in self.txt:\n",
    "            lemma_words = []\n",
    "            for word in sentence:\n",
    "                lemma_words.append(lemmatizer.lemmatize(word))\n",
    "            lemma_sentences.append(lemma_words)\n",
    "        self.txt = lemma_sentences\n",
    "        #print(self.txt)\n",
    "#*************************************#\n",
    "    def portstemmer_sentence(self):\n",
    "        ps = PorterStemmer()\n",
    "        portstemmer_sentences = []\n",
    "        for sentence in self.txt:\n",
    "            portstemmer_words = []\n",
    "            for word in sentence:\n",
    "                portstemmer_words.append(ps.stem(word))\n",
    "            portstemmer_sentences.append(portstemmer_words)\n",
    "        self.txt = portstemmer_sentences\n",
    "        #print(self.txt)\n",
    "#*************************************#\n",
    "    def preprocessing_end(self):\n",
    "        return self.txt\n",
    "#*************************************#\n",
    "    def return_data(self):\n",
    "        new=[]\n",
    "        for sentences in self.txt:\n",
    "            sentence = ' '.join(sentences)\n",
    "            new.append(sentence)\n",
    "        return new"
   ]
  },
  {
   "cell_type": "code",
   "execution_count": 172,
   "id": "ec8991c4",
   "metadata": {},
   "outputs": [],
   "source": [
    "pre_xtrain=Preprocessing(x_data)#constructor for x_data"
   ]
  },
  {
   "cell_type": "markdown",
   "id": "0f2b444d",
   "metadata": {},
   "source": [
    "## <font color='#3f51b5'>4.1-Remove puntuation </font> "
   ]
  },
  {
   "cell_type": "code",
   "execution_count": 173,
   "id": "18aed381",
   "metadata": {},
   "outputs": [],
   "source": [
    "pre_xtrain.remove_punctuation()"
   ]
  },
  {
   "cell_type": "markdown",
   "id": "75195d6e",
   "metadata": {},
   "source": [
    "## <font color='#3f51b5'>4.2-Word_Tokenization </font>  "
   ]
  },
  {
   "cell_type": "code",
   "execution_count": 174,
   "id": "22a15fd4",
   "metadata": {},
   "outputs": [],
   "source": [
    "pre_xtrain.Word_Tokenization()"
   ]
  },
  {
   "cell_type": "markdown",
   "id": "b1dc964c",
   "metadata": {},
   "source": [
    "## <font color='#3f51b5'>4.3-Remove_stop_words </font>  "
   ]
  },
  {
   "cell_type": "code",
   "execution_count": 175,
   "id": "42524da3",
   "metadata": {},
   "outputs": [],
   "source": [
    "pre_xtrain.remove_stop_words()"
   ]
  },
  {
   "cell_type": "markdown",
   "id": "4e2c317f",
   "metadata": {},
   "source": [
    "## <font color='#3f51b5'>4.4- Porter Stemmer ||Snowball Stemmer || lemmatizer </font>  \n"
   ]
  },
  {
   "cell_type": "code",
   "execution_count": 176,
   "id": "caccd715",
   "metadata": {
    "scrolled": true
   },
   "outputs": [],
   "source": [
    "#pre_xtrain.snowball_stemmer()\n",
    "pre_xtrain.lemmatization()\n",
    "#pre_xtrain.portstemmer_sentence()"
   ]
  },
  {
   "cell_type": "markdown",
   "id": "ad557c91",
   "metadata": {},
   "source": [
    "## <font color='red'>4.5-Final Result</font>"
   ]
  },
  {
   "cell_type": "code",
   "execution_count": 177,
   "id": "a766fcfb",
   "metadata": {},
   "outputs": [
    {
     "name": "stdout",
     "output_type": "stream",
     "text": [
      "[['didnt', 'feel', 'humiliated'], ['go', 'feeling', 'hopeless', 'damned', 'hopeful', 'around', 'someone', 'care', 'awake'], ['im', 'grabbing', 'minute', 'post', 'feel', 'greedy', 'wrong'], ['ever', 'feeling', 'nostalgic', 'fireplace', 'know', 'still', 'property'], ['feeling', 'grouchy']]\n"
     ]
    }
   ],
   "source": [
    "x_data=pre_xtrain.preprocessing_end()\n",
    "print(x_data[0:5])"
   ]
  },
  {
   "cell_type": "markdown",
   "id": "305e38dd",
   "metadata": {},
   "source": [
    "## <font color='#3f51b5'>5.1-Prepare For Vectorization  </font>  "
   ]
  },
  {
   "cell_type": "code",
   "execution_count": 178,
   "id": "433ce6aa",
   "metadata": {},
   "outputs": [
    {
     "name": "stdout",
     "output_type": "stream",
     "text": [
      "['didnt feel humiliated', 'go feeling hopeless damned hopeful around someone care awake', 'im grabbing minute post feel greedy wrong', 'ever feeling nostalgic fireplace know still property', 'feeling grouchy', 'ive feeling little burdened lately wasnt sure', 'ive taking milligram time recommended amount ive fallen asleep lot faster also feel like funny', 'feel confused life teenager jaded year old man', 'petronas year feel petronas performed well made huge profit', 'feel romantic']\n"
     ]
    }
   ],
   "source": [
    "vector=pre_xtrain.return_data()\n",
    "print(vector[0:10])"
   ]
  },
  {
   "cell_type": "markdown",
   "id": "36b7eae2",
   "metadata": {},
   "source": [
    "##  <font color='#008080'>5.2-TF-IDF(term frequency-inverse document frequency)</font>  "
   ]
  },
  {
   "cell_type": "code",
   "execution_count": 183,
   "id": "8601fe5c",
   "metadata": {},
   "outputs": [
    {
     "name": "stdout",
     "output_type": "stream",
     "text": [
      "(20000, 15081)\n"
     ]
    },
    {
     "data": {
      "text/html": [
       "<div>\n",
       "<style scoped>\n",
       "    .dataframe tbody tr th:only-of-type {\n",
       "        vertical-align: middle;\n",
       "    }\n",
       "\n",
       "    .dataframe tbody tr th {\n",
       "        vertical-align: top;\n",
       "    }\n",
       "\n",
       "    .dataframe thead th {\n",
       "        text-align: right;\n",
       "    }\n",
       "</style>\n",
       "<table border=\"1\" class=\"dataframe\">\n",
       "  <thead>\n",
       "    <tr style=\"text-align: right;\">\n",
       "      <th></th>\n",
       "      <th>aa</th>\n",
       "      <th>aaaaaaand</th>\n",
       "      <th>aaaaand</th>\n",
       "      <th>aaaah</th>\n",
       "      <th>aaaand</th>\n",
       "      <th>aac</th>\n",
       "      <th>aahhh</th>\n",
       "      <th>aaron</th>\n",
       "      <th>ab</th>\n",
       "      <th>abandon</th>\n",
       "      <th>...</th>\n",
       "      <th>zoned</th>\n",
       "      <th>zonisamide</th>\n",
       "      <th>zoo</th>\n",
       "      <th>zoom</th>\n",
       "      <th>zooming</th>\n",
       "      <th>zq</th>\n",
       "      <th>zucchini</th>\n",
       "      <th>zum</th>\n",
       "      <th>zumba</th>\n",
       "      <th>zz</th>\n",
       "    </tr>\n",
       "  </thead>\n",
       "  <tbody>\n",
       "    <tr>\n",
       "      <th>0</th>\n",
       "      <td>0.0</td>\n",
       "      <td>0.0</td>\n",
       "      <td>0.0</td>\n",
       "      <td>0.0</td>\n",
       "      <td>0.0</td>\n",
       "      <td>0.0</td>\n",
       "      <td>0.0</td>\n",
       "      <td>0.0</td>\n",
       "      <td>0.0</td>\n",
       "      <td>0.0</td>\n",
       "      <td>...</td>\n",
       "      <td>0.0</td>\n",
       "      <td>0.0</td>\n",
       "      <td>0.0</td>\n",
       "      <td>0.0</td>\n",
       "      <td>0.0</td>\n",
       "      <td>0.0</td>\n",
       "      <td>0.0</td>\n",
       "      <td>0.0</td>\n",
       "      <td>0.0</td>\n",
       "      <td>0.0</td>\n",
       "    </tr>\n",
       "    <tr>\n",
       "      <th>1</th>\n",
       "      <td>0.0</td>\n",
       "      <td>0.0</td>\n",
       "      <td>0.0</td>\n",
       "      <td>0.0</td>\n",
       "      <td>0.0</td>\n",
       "      <td>0.0</td>\n",
       "      <td>0.0</td>\n",
       "      <td>0.0</td>\n",
       "      <td>0.0</td>\n",
       "      <td>0.0</td>\n",
       "      <td>...</td>\n",
       "      <td>0.0</td>\n",
       "      <td>0.0</td>\n",
       "      <td>0.0</td>\n",
       "      <td>0.0</td>\n",
       "      <td>0.0</td>\n",
       "      <td>0.0</td>\n",
       "      <td>0.0</td>\n",
       "      <td>0.0</td>\n",
       "      <td>0.0</td>\n",
       "      <td>0.0</td>\n",
       "    </tr>\n",
       "    <tr>\n",
       "      <th>2</th>\n",
       "      <td>0.0</td>\n",
       "      <td>0.0</td>\n",
       "      <td>0.0</td>\n",
       "      <td>0.0</td>\n",
       "      <td>0.0</td>\n",
       "      <td>0.0</td>\n",
       "      <td>0.0</td>\n",
       "      <td>0.0</td>\n",
       "      <td>0.0</td>\n",
       "      <td>0.0</td>\n",
       "      <td>...</td>\n",
       "      <td>0.0</td>\n",
       "      <td>0.0</td>\n",
       "      <td>0.0</td>\n",
       "      <td>0.0</td>\n",
       "      <td>0.0</td>\n",
       "      <td>0.0</td>\n",
       "      <td>0.0</td>\n",
       "      <td>0.0</td>\n",
       "      <td>0.0</td>\n",
       "      <td>0.0</td>\n",
       "    </tr>\n",
       "    <tr>\n",
       "      <th>3</th>\n",
       "      <td>0.0</td>\n",
       "      <td>0.0</td>\n",
       "      <td>0.0</td>\n",
       "      <td>0.0</td>\n",
       "      <td>0.0</td>\n",
       "      <td>0.0</td>\n",
       "      <td>0.0</td>\n",
       "      <td>0.0</td>\n",
       "      <td>0.0</td>\n",
       "      <td>0.0</td>\n",
       "      <td>...</td>\n",
       "      <td>0.0</td>\n",
       "      <td>0.0</td>\n",
       "      <td>0.0</td>\n",
       "      <td>0.0</td>\n",
       "      <td>0.0</td>\n",
       "      <td>0.0</td>\n",
       "      <td>0.0</td>\n",
       "      <td>0.0</td>\n",
       "      <td>0.0</td>\n",
       "      <td>0.0</td>\n",
       "    </tr>\n",
       "    <tr>\n",
       "      <th>4</th>\n",
       "      <td>0.0</td>\n",
       "      <td>0.0</td>\n",
       "      <td>0.0</td>\n",
       "      <td>0.0</td>\n",
       "      <td>0.0</td>\n",
       "      <td>0.0</td>\n",
       "      <td>0.0</td>\n",
       "      <td>0.0</td>\n",
       "      <td>0.0</td>\n",
       "      <td>0.0</td>\n",
       "      <td>...</td>\n",
       "      <td>0.0</td>\n",
       "      <td>0.0</td>\n",
       "      <td>0.0</td>\n",
       "      <td>0.0</td>\n",
       "      <td>0.0</td>\n",
       "      <td>0.0</td>\n",
       "      <td>0.0</td>\n",
       "      <td>0.0</td>\n",
       "      <td>0.0</td>\n",
       "      <td>0.0</td>\n",
       "    </tr>\n",
       "  </tbody>\n",
       "</table>\n",
       "<p>5 rows × 15081 columns</p>\n",
       "</div>"
      ],
      "text/plain": [
       "    aa  aaaaaaand  aaaaand  aaaah  aaaand  aac  aahhh  aaron   ab  abandon  \\\n",
       "0  0.0        0.0      0.0    0.0     0.0  0.0    0.0    0.0  0.0      0.0   \n",
       "1  0.0        0.0      0.0    0.0     0.0  0.0    0.0    0.0  0.0      0.0   \n",
       "2  0.0        0.0      0.0    0.0     0.0  0.0    0.0    0.0  0.0      0.0   \n",
       "3  0.0        0.0      0.0    0.0     0.0  0.0    0.0    0.0  0.0      0.0   \n",
       "4  0.0        0.0      0.0    0.0     0.0  0.0    0.0    0.0  0.0      0.0   \n",
       "\n",
       "   ...  zoned  zonisamide  zoo  zoom  zooming   zq  zucchini  zum  zumba   zz  \n",
       "0  ...    0.0         0.0  0.0   0.0      0.0  0.0       0.0  0.0    0.0  0.0  \n",
       "1  ...    0.0         0.0  0.0   0.0      0.0  0.0       0.0  0.0    0.0  0.0  \n",
       "2  ...    0.0         0.0  0.0   0.0      0.0  0.0       0.0  0.0    0.0  0.0  \n",
       "3  ...    0.0         0.0  0.0   0.0      0.0  0.0       0.0  0.0    0.0  0.0  \n",
       "4  ...    0.0         0.0  0.0   0.0      0.0  0.0       0.0  0.0    0.0  0.0  \n",
       "\n",
       "[5 rows x 15081 columns]"
      ]
     },
     "execution_count": 183,
     "metadata": {},
     "output_type": "execute_result"
    }
   ],
   "source": [
    "tfidf_vec = TfidfVectorizer()\n",
    "x_data = tfidf_vec.fit_transform(vector)\n",
    "print(x_data.toarray().shape)\n",
    "df = pd.DataFrame(x_data.toarray(),columns=tfidf_vec.get_feature_names_out())\n",
    "df.head()"
   ]
  },
  {
   "cell_type": "code",
   "execution_count": 18,
   "id": "6b25702d",
   "metadata": {},
   "outputs": [
    {
     "name": "stdout",
     "output_type": "stream",
     "text": [
      "[0.7829676951446345, 0.600575071753376, 0.16208384110800805, 0.0, 0.0, 0.0, 0.0, 0.0, 0.0, 0.0, 0.0, 0.0, 0.0, 0.0, 0.0, 0.0, 0.0, 0.0, 0.0, 0.0]\n",
      "--------------------------------------------------\n",
      "[0.4847825651039715, 0.42532618681984774, 0.35643388555531946, 0.3557170601381716, 0.32343366075819874, 0.2782548035648568, 0.26904399522389716, 0.25122533028748173, 0.11388525439510565, 0.0, 0.0, 0.0, 0.0, 0.0, 0.0, 0.0, 0.0, 0.0, 0.0, 0.0]\n",
      "--------------------------------------------------\n",
      "[0.5637468126785886, 0.4144919421129777, 0.41283566662662463, 0.4051511534123527, 0.364112247132306, 0.1887078846504578, 0.08727440705468546, 0.0, 0.0, 0.0, 0.0, 0.0, 0.0, 0.0, 0.0, 0.0, 0.0, 0.0, 0.0, 0.0]\n",
      "--------------------------------------------------\n",
      "[0.5621390870097484, 0.5381901575632737, 0.3983752257916381, 0.3174234770462891, 0.2549252178192434, 0.2333558224124526, 0.1242928409812476, 0.0, 0.0, 0.0, 0.0, 0.0, 0.0, 0.0, 0.0, 0.0, 0.0, 0.0, 0.0, 0.0]\n",
      "--------------------------------------------------\n",
      "[0.9613563119161928, 0.27530717669340893, 0.0, 0.0, 0.0, 0.0, 0.0, 0.0, 0.0, 0.0, 0.0, 0.0, 0.0, 0.0, 0.0, 0.0, 0.0, 0.0, 0.0, 0.0]\n",
      "--------------------------------------------------\n"
     ]
    }
   ],
   "source": [
    "for i in range(5) : \n",
    "    print(sorted(list(df.iloc[i,:]),reverse=True)[:20])\n",
    "    print('--------------------------------------------------')"
   ]
  },
  {
   "cell_type": "code",
   "execution_count": 19,
   "id": "e3e55e4e",
   "metadata": {},
   "outputs": [],
   "source": [
    "from keras.utils import to_categorical\n",
    "\n",
    "# Convert labels to numeric format\n",
    "encoding = {'anger': 0, 'sadness': 1, 'fear': 2, 'joy': 3, 'surprise': 4, 'love': 5}\n",
    "y_data = [encoding[x] for x in y_data]"
   ]
  },
  {
   "cell_type": "code",
   "execution_count": 34,
   "id": "865d47a9",
   "metadata": {},
   "outputs": [
    {
     "name": "stdout",
     "output_type": "stream",
     "text": [
      "[1, 1, 0, 5, 0, 1, 4, 2, 3, 5]\n"
     ]
    }
   ],
   "source": [
    "print(y_data[:10])"
   ]
  },
  {
   "cell_type": "code",
   "execution_count": 21,
   "id": "436ba22f",
   "metadata": {},
   "outputs": [
    {
     "data": {
      "text/plain": [
       "(4000, 15081)"
      ]
     },
     "execution_count": 21,
     "metadata": {},
     "output_type": "execute_result"
    }
   ],
   "source": [
    "from sklearn.model_selection import train_test_split\n",
    "\n",
    "data_tfidf_train, data_tfidf_test, label_train, label_test = train_test_split(x_data, y_data, test_size=0.2, random_state=42)\n",
    "data_tfidf_train.shape\n",
    "data_tfidf_test.shape"
   ]
  },
  {
   "cell_type": "code",
   "execution_count": 22,
   "id": "365e2c39",
   "metadata": {},
   "outputs": [],
   "source": [
    "from imblearn.under_sampling import RandomUnderSampler\n",
    "from imblearn.over_sampling import RandomOverSampler\n",
    "\n",
    "# Undersampling\n",
    "undersampler = RandomUnderSampler(sampling_strategy='auto',random_state=0)\n",
    "data_tfidf_train_resampled, label_train_resampled = undersampler.fit_resample(data_tfidf_train, label_train)\n",
    "\n",
    "# Oversampling\n",
    "oversampler = RandomOverSampler(sampling_strategy='auto', random_state=0)\n",
    "data_tfidf_train_resampled, label_train_resampled = oversampler.fit_resample(data_tfidf_train_resampled, label_train_resampled)"
   ]
  },
  {
   "cell_type": "code",
   "execution_count": 23,
   "id": "35805230",
   "metadata": {},
   "outputs": [
    {
     "name": "stdout",
     "output_type": "stream",
     "text": [
      "Precision: 0.772 / Recall: 0.683 / Accuracy: 0.683\n",
      "[[ 175  186    2  177    0    0]\n",
      " [   1 1112    1   81    0    0]\n",
      " [   6  138  112  186    0    0]\n",
      " [   0   26    0 1309    0    0]\n",
      " [   0   48    6  101    1    0]\n",
      " [   0   62    2  246    0   22]]\n",
      "              precision    recall  f1-score   support\n",
      "\n",
      "           0       0.96      0.32      0.48       540\n",
      "           1       0.71      0.93      0.80      1195\n",
      "           2       0.91      0.25      0.40       442\n",
      "           3       0.62      0.98      0.76      1335\n",
      "           4       1.00      0.01      0.01       156\n",
      "           5       1.00      0.07      0.12       332\n",
      "\n",
      "    accuracy                           0.68      4000\n",
      "   macro avg       0.87      0.43      0.43      4000\n",
      "weighted avg       0.77      0.68      0.61      4000\n",
      "\n"
     ]
    }
   ],
   "source": [
    "spam_detect_model1 = MultinomialNB().fit(data_tfidf_train, label_train)\n",
    "pred_test_MNB = spam_detect_model1.predict(data_tfidf_test)\n",
    "precision = precision_score(label_test, pred_test_MNB, average='weighted')\n",
    "recall = recall_score(label_test, pred_test_MNB, average='weighted')\n",
    "accuracy = accuracy_score(label_test, pred_test_MNB)\n",
    "print('Precision: {} / Recall: {} / Accuracy: {}'.format(round(precision, 3), round(recall, 3), round(accuracy, 3)))\n",
    "print(confusion_matrix(label_test,pred_test_MNB))\n",
    "print (classification_report(label_test, pred_test_MNB))"
   ]
  },
  {
   "cell_type": "code",
   "execution_count": 24,
   "id": "2cb709a8",
   "metadata": {},
   "outputs": [
    {
     "name": "stdout",
     "output_type": "stream",
     "text": [
      "Precision: 0.864 / Recall: 0.863 / Accuracy: 0.863\n",
      "[[ 471   27   19   16    2    5]\n",
      " [  52 1063   33   29    7   11]\n",
      " [  19   13  376   14   19    1]\n",
      " [  10   47   13 1188    6   71]\n",
      " [   1    3   30   16  106    0]\n",
      " [   2    6    3   72    0  249]]\n",
      "              precision    recall  f1-score   support\n",
      "\n",
      "           0       0.85      0.87      0.86       540\n",
      "           1       0.92      0.89      0.90      1195\n",
      "           2       0.79      0.85      0.82       442\n",
      "           3       0.89      0.89      0.89      1335\n",
      "           4       0.76      0.68      0.72       156\n",
      "           5       0.74      0.75      0.74       332\n",
      "\n",
      "    accuracy                           0.86      4000\n",
      "   macro avg       0.82      0.82      0.82      4000\n",
      "weighted avg       0.86      0.86      0.86      4000\n",
      "\n"
     ]
    }
   ],
   "source": [
    "spam_detect_model2 = tree.DecisionTreeClassifier().fit(data_tfidf_train, label_train)\n",
    "pred_test_MNB = spam_detect_model2.predict(data_tfidf_test)\n",
    "precision = precision_score(label_test, pred_test_MNB,average='weighted')\n",
    "recall = recall_score(label_test, pred_test_MNB,average='weighted')\n",
    "accuracy = accuracy_score(label_test, pred_test_MNB)\n",
    "print('Precision: {} / Recall: {} / Accuracy: {}'.format(round(precision, 3), round(recall, 3), round(accuracy, 3)))\n",
    "print(confusion_matrix(label_test,pred_test_MNB))\n",
    "print (classification_report(label_test, pred_test_MNB))"
   ]
  },
  {
   "cell_type": "code",
   "execution_count": 25,
   "id": "59847314",
   "metadata": {},
   "outputs": [
    {
     "name": "stdout",
     "output_type": "stream",
     "text": [
      "Precision: 0.883 / Recall: 0.882 / Accuracy: 0.882\n",
      "[[ 462   16   14   43    0    5]\n",
      " [  33 1092   15   41    6    8]\n",
      " [  14   24  380   14    9    1]\n",
      " [   7   27   13 1248    4   36]\n",
      " [   0    3   34   10  109    0]\n",
      " [   3    4    3   83    0  239]]\n",
      "              precision    recall  f1-score   support\n",
      "\n",
      "           0       0.89      0.86      0.87       540\n",
      "           1       0.94      0.91      0.93      1195\n",
      "           2       0.83      0.86      0.84       442\n",
      "           3       0.87      0.93      0.90      1335\n",
      "           4       0.85      0.70      0.77       156\n",
      "           5       0.83      0.72      0.77       332\n",
      "\n",
      "    accuracy                           0.88      4000\n",
      "   macro avg       0.87      0.83      0.85      4000\n",
      "weighted avg       0.88      0.88      0.88      4000\n",
      "\n"
     ]
    }
   ],
   "source": [
    "spam_detect_model3 = RandomForestClassifier().fit(data_tfidf_train, label_train)\n",
    "pred_test_MNB = spam_detect_model3.predict(data_tfidf_test)\n",
    "precision = precision_score(label_test, pred_test_MNB,average='weighted')\n",
    "recall = recall_score(label_test, pred_test_MNB,average='weighted')\n",
    "accuracy = accuracy_score(label_test, pred_test_MNB)\n",
    "print('Precision: {} / Recall: {} / Accuracy: {}'.format(round(precision, 3), round(recall, 3), round(accuracy, 3)))\n",
    "print(confusion_matrix(label_test,pred_test_MNB))\n",
    "print (classification_report(label_test, pred_test_MNB))"
   ]
  },
  {
   "cell_type": "code",
   "execution_count": 26,
   "id": "ba9916a0",
   "metadata": {},
   "outputs": [
    {
     "name": "stdout",
     "output_type": "stream",
     "text": [
      "Precision: 0.869 / Recall: 0.866 / Accuracy: 0.866\n",
      "[[ 432   41   12   53    0    2]\n",
      " [  16 1131    7   40    0    1]\n",
      " [  18   36  344   37    6    1]\n",
      " [   2   23    5 1279    1   25]\n",
      " [   2   16   36   32   70    0]\n",
      " [   4   16    3  102    0  207]]\n",
      "              precision    recall  f1-score   support\n",
      "\n",
      "           0       0.91      0.80      0.85       540\n",
      "           1       0.90      0.95      0.92      1195\n",
      "           2       0.85      0.78      0.81       442\n",
      "           3       0.83      0.96      0.89      1335\n",
      "           4       0.91      0.45      0.60       156\n",
      "           5       0.88      0.62      0.73       332\n",
      "\n",
      "    accuracy                           0.87      4000\n",
      "   macro avg       0.88      0.76      0.80      4000\n",
      "weighted avg       0.87      0.87      0.86      4000\n",
      "\n"
     ]
    }
   ],
   "source": [
    "from sklearn.linear_model import LogisticRegression\n",
    "\n",
    "lr_model = LogisticRegression(random_state=42)\n",
    "lr_model.fit(data_tfidf_train, label_train)\n",
    "\n",
    "# Use the trained model to make predictions on the test data\n",
    "pred_test_lr = lr_model.predict(data_tfidf_test)\n",
    "\n",
    "# Evaluate the performance of the model using precision, recall, and accuracy\n",
    "precision = precision_score(label_test, pred_test_lr, average='weighted')\n",
    "recall = recall_score(label_test, pred_test_lr, average='weighted')\n",
    "accuracy = accuracy_score(label_test, pred_test_lr)\n",
    "\n",
    "# Print the evaluation metrics\n",
    "print('Precision: {} / Recall: {} / Accuracy: {}'.format(round(precision, 3), round(recall, 3), round(accuracy, 3)))\n",
    "print(confusion_matrix(label_test, pred_test_lr))\n",
    "print(classification_report(label_test, pred_test_lr))"
   ]
  },
  {
   "cell_type": "code",
   "execution_count": 27,
   "id": "db13174d",
   "metadata": {},
   "outputs": [
    {
     "name": "stdout",
     "output_type": "stream",
     "text": [
      "Precision: 0.861 / Recall: 0.856 / Accuracy: 0.856\n",
      "[[ 425   43    7   60    0    5]\n",
      " [  16 1122   13   39    2    3]\n",
      " [  18   39  330   48    7    0]\n",
      " [   6   21    8 1285    1   14]\n",
      " [   1   11   37   28   79    0]\n",
      " [   2   11    2  133    0  184]]\n",
      "              precision    recall  f1-score   support\n",
      "\n",
      "           0       0.91      0.79      0.84       540\n",
      "           1       0.90      0.94      0.92      1195\n",
      "           2       0.83      0.75      0.79       442\n",
      "           3       0.81      0.96      0.88      1335\n",
      "           4       0.89      0.51      0.64       156\n",
      "           5       0.89      0.55      0.68       332\n",
      "\n",
      "    accuracy                           0.86      4000\n",
      "   macro avg       0.87      0.75      0.79      4000\n",
      "weighted avg       0.86      0.86      0.85      4000\n",
      "\n"
     ]
    }
   ],
   "source": [
    "from sklearn.svm import SVC\n",
    "\n",
    "# Split the data into training and test sets\n",
    "data_tfidf_train, data_tfidf_test, label_train, label_test = train_test_split(x_data, y_data, test_size=0.2, random_state=42)\n",
    "\n",
    "# Train an SVM model on the training data\n",
    "svm_model = SVC(random_state=42)\n",
    "svm_model.fit(data_tfidf_train, label_train)\n",
    "\n",
    "# Use the trained model to make predictions on the test data\n",
    "pred_test_svm = svm_model.predict(data_tfidf_test)\n",
    "\n",
    "# Evaluate the performance of the model using precision, recall, and accuracy\n",
    "precision = precision_score(label_test, pred_test_svm, average='weighted')\n",
    "recall = recall_score(label_test, pred_test_svm, average='weighted')\n",
    "accuracy = accuracy_score(label_test, pred_test_svm)\n",
    "\n",
    "# Print the evaluation metrics\n",
    "print('Precision: {} / Recall: {} / Accuracy: {}'.format(round(precision, 3), round(recall, 3), round(accuracy, 3)))\n",
    "print(confusion_matrix(label_test, pred_test_svm))\n",
    "print(classification_report(label_test, pred_test_svm))"
   ]
  },
  {
   "cell_type": "code",
   "execution_count": 28,
   "id": "ac03bd94",
   "metadata": {},
   "outputs": [
    {
     "name": "stdout",
     "output_type": "stream",
     "text": [
      "Precision: 0.789 / Recall: 0.788 / Accuracy: 0.788\n",
      "[[ 426   58    8   41    5    2]\n",
      " [  49 1051   17   70    2    6]\n",
      " [  21   64  301   38   17    1]\n",
      " [  35  123   24 1122    5   26]\n",
      " [   4   23   17   32   78    2]\n",
      " [  17   51    1   90    1  172]]\n",
      "              precision    recall  f1-score   support\n",
      "\n",
      "           0       0.77      0.79      0.78       540\n",
      "           1       0.77      0.88      0.82      1195\n",
      "           2       0.82      0.68      0.74       442\n",
      "           3       0.81      0.84      0.82      1335\n",
      "           4       0.72      0.50      0.59       156\n",
      "           5       0.82      0.52      0.64       332\n",
      "\n",
      "    accuracy                           0.79      4000\n",
      "   macro avg       0.78      0.70      0.73      4000\n",
      "weighted avg       0.79      0.79      0.78      4000\n",
      "\n"
     ]
    }
   ],
   "source": [
    "from sklearn.neighbors import KNeighborsClassifier\n",
    "\n",
    "# Split the data into training and test sets\n",
    "data_tfidf_train, data_tfidf_test, label_train, label_test = train_test_split(x_data, y_data, test_size=0.2, random_state=42)\n",
    "\n",
    "# Train a KNN model on the training data\n",
    "knn_model = KNeighborsClassifier()\n",
    "knn_model.fit(data_tfidf_train, label_train)\n",
    "\n",
    "# Use the trained model to make predictions on the test data\n",
    "pred_test_knn = knn_model.predict(data_tfidf_test)\n",
    "\n",
    "# Evaluate the performance of the model using precision, recall, and accuracy\n",
    "precision = precision_score(label_test, pred_test_knn, average='weighted')\n",
    "recall = recall_score(label_test, pred_test_knn, average='weighted')\n",
    "accuracy = accuracy_score(label_test, pred_test_knn)\n",
    "\n",
    "# Print the evaluation metrics\n",
    "print('Precision: {} / Recall: {} / Accuracy: {}'.format(round(precision, 3), round(recall, 3), round(accuracy, 3)))\n",
    "print(confusion_matrix(label_test, pred_test_knn))\n",
    "print(classification_report(label_test, pred_test_knn))"
   ]
  },
  {
   "cell_type": "code",
   "execution_count": 29,
   "id": "3f2adbef",
   "metadata": {},
   "outputs": [
    {
     "name": "stdout",
     "output_type": "stream",
     "text": [
      "Precision: 0.885 / Recall: 0.884 / Accuracy: 0.884\n",
      "[[ 466   15   14   41    0    4]\n",
      " [  29 1069   17   64    5   11]\n",
      " [  15   16  373   16   18    4]\n",
      " [   5   17   11 1241    5   56]\n",
      " [   1    2   22   13  118    0]\n",
      " [   4    2    2   57    0  267]]\n",
      "              precision    recall  f1-score   support\n",
      "\n",
      "           0       0.90      0.86      0.88       540\n",
      "           1       0.95      0.89      0.92      1195\n",
      "           2       0.85      0.84      0.85       442\n",
      "           3       0.87      0.93      0.90      1335\n",
      "           4       0.81      0.76      0.78       156\n",
      "           5       0.78      0.80      0.79       332\n",
      "\n",
      "    accuracy                           0.88      4000\n",
      "   macro avg       0.86      0.85      0.85      4000\n",
      "weighted avg       0.89      0.88      0.88      4000\n",
      "\n"
     ]
    }
   ],
   "source": [
    "from xgboost import XGBClassifier\n",
    "\n",
    "# Split the data into training and test sets\n",
    "data_tfidf_train, data_tfidf_test, label_train, label_test = train_test_split(x_data, y_data, test_size=0.2, random_state=42)\n",
    "\n",
    "# Train an XGBClassifier model on the training data\n",
    "xgb_model = XGBClassifier(random_state=42)\n",
    "xgb_model.fit(data_tfidf_train, label_train)\n",
    "\n",
    "# Use the trained model to make predictions on the test data\n",
    "pred_test_xgb = xgb_model.predict(data_tfidf_test)\n",
    "\n",
    "# Evaluate the performance of the model using precision, recall, and accuracy\n",
    "precision = precision_score(label_test, pred_test_xgb, average='weighted')\n",
    "recall = recall_score(label_test, pred_test_xgb, average='weighted')\n",
    "accuracy = accuracy_score(label_test, pred_test_xgb)\n",
    "\n",
    "# Print the evaluation metrics\n",
    "print('Precision: {} / Recall: {} / Accuracy: {}'.format(round(precision, 3), round(recall, 3), round(accuracy, 3)))\n",
    "print(confusion_matrix(label_test, pred_test_xgb))\n",
    "print(classification_report(label_test, pred_test_xgb))"
   ]
  },
  {
   "cell_type": "code",
   "execution_count": 30,
   "id": "23217fe6",
   "metadata": {},
   "outputs": [
    {
     "data": {
      "text/plain": [
       "<AxesSubplot:xlabel='Algorithm', ylabel='Accuracy Score'>"
      ]
     },
     "execution_count": 30,
     "metadata": {},
     "output_type": "execute_result"
    },
    {
     "data": {
      "image/png": "[encoded data removed]",
      "text/plain": [
       "<Figure size 1500x800 with 1 Axes>"
      ]
     },
     "metadata": {},
     "output_type": "display_data"
    }
   ],
   "source": [
    "svm_score = svm_model.score(data_tfidf_test, label_test)\n",
    "knn_score = knn_model.score(data_tfidf_test, label_test)\n",
    "xgb_score = xgb_model.score(data_tfidf_test, label_test)\n",
    "lr_score = lr_model.score(data_tfidf_test, label_test)\n",
    "nb_score = spam_detect_model1.score(data_tfidf_test, label_test)\n",
    "dt_score = spam_detect_model2.score(data_tfidf_test, label_test)\n",
    "rf_score = spam_detect_model3.score(data_tfidf_test, label_test)\n",
    "import pandas as pd\n",
    "import seaborn as sns\n",
    "import matplotlib.pyplot as plt\n",
    "\n",
    "# Create a dataframe with the algorithm names and their scores\n",
    "algorithms = ['nb','dt','rf','Logistic Regression', 'SVM', 'KNN', 'XGBoost']\n",
    "scores = [nb_score,dt_score,rf_score,lr_score,svm_score, knn_score,xgb_score]\n",
    "df = pd.DataFrame({'Algorithm': algorithms, 'Accuracy Score': scores})\n",
    "\n",
    "# Set the figure size and labels\n",
    "sns.set(rc={'figure.figsize':(15,8)})\n",
    "plt.xlabel(\"Algorithms\")\n",
    "plt.ylabel(\"Accuracy Score\")\n",
    "# Create the barplot\n",
    "sns.barplot(x='Algorithm', y='Accuracy Score', data=df)"
   ]
  },
  {
   "cell_type": "code",
   "execution_count": 77,
   "id": "59802db8",
   "metadata": {},
   "outputs": [
    {
     "name": "stdout",
     "output_type": "stream",
     "text": [
      "anger\n"
     ]
    }
   ],
   "source": [
    "text = 'hossam feel dissatisfied'\n",
    "X = tfidf_vec.transform([text])\n",
    "pred = lr_model.predict(X)\n",
    "if pred[0]==0:\n",
    "    print('anger')\n",
    "elif pred[0]==1:\n",
    "    print('sadness')\n",
    "elif pred[0]==2:\n",
    "    print('fear')\n",
    "elif pred[0]==3:\n",
    "    print('joy')\n",
    "elif pred[0]==4:\n",
    "    print('surprise')\n",
    "elif pred[0]==5:\n",
    "    print('love') "
   ]
  },
  {
   "cell_type": "code",
   "execution_count": 80,
   "id": "659d2643",
   "metadata": {},
   "outputs": [
    {
     "name": "stdout",
     "output_type": "stream",
     "text": [
      "sadness\n"
     ]
    }
   ],
   "source": [
    "text = 'i feel disappointed'\n",
    "X = tfidf_vec.transform([text])\n",
    "pred = lr_model.predict(X)\n",
    "if pred[0]==0:\n",
    "    print('anger')\n",
    "elif pred[0]==1:\n",
    "    print('sadness')\n",
    "elif pred[0]==2:\n",
    "    print('fear')\n",
    "elif pred[0]==3:\n",
    "    print('joy')\n",
    "elif pred[0]==4:\n",
    "    print('surprise')\n",
    "elif pred[0]==5:\n",
    "    print('love') "
   ]
  },
  {
   "cell_type": "code",
   "execution_count": 84,
   "id": "c775fbeb",
   "metadata": {},
   "outputs": [
    {
     "name": "stdout",
     "output_type": "stream",
     "text": [
      "fear\n"
     ]
    }
   ],
   "source": [
    "text = ' I feel terrified '\n",
    "X = tfidf_vec.transform([text])\n",
    "pred = lr_model.predict(X)\n",
    "if pred[0]==0:\n",
    "    print('anger')\n",
    "elif pred[0]==1:\n",
    "    print('sadness')\n",
    "elif pred[0]==2:\n",
    "    print('fear')\n",
    "elif pred[0]==3:\n",
    "    print('joy')\n",
    "elif pred[0]==4:\n",
    "    print('surprise')\n",
    "elif pred[0]==5:\n",
    "    print('love') "
   ]
  },
  {
   "cell_type": "code",
   "execution_count": 85,
   "id": "12c788e2",
   "metadata": {},
   "outputs": [
    {
     "name": "stdout",
     "output_type": "stream",
     "text": [
      "joy\n"
     ]
    }
   ],
   "source": [
    "text = 'i playing football with mohamed  '\n",
    "X = tfidf_vec.transform([text])\n",
    "pred = lr_model.predict(X)\n",
    "if pred[0]==0:\n",
    "    print('anger')\n",
    "elif pred[0]==1:\n",
    "    print('sadness')\n",
    "elif pred[0]==2:\n",
    "    print('fear')\n",
    "elif pred[0]==3:\n",
    "    print('joy')\n",
    "elif pred[0]==4:\n",
    "    print('surprise')\n",
    "elif pred[0]==5:\n",
    "    print('love') "
   ]
  },
  {
   "cell_type": "code",
   "execution_count": 86,
   "id": "4eeab78e",
   "metadata": {},
   "outputs": [
    {
     "name": "stdout",
     "output_type": "stream",
     "text": [
      "surprise\n"
     ]
    }
   ],
   "source": [
    "text = 'i m shocked my son pass the exam'\n",
    "X = tfidf_vec.transform([text])\n",
    "pred = lr_model.predict(X)\n",
    "if pred[0]==0:\n",
    "    print('anger')\n",
    "elif pred[0]==1:\n",
    "    print('sadness')\n",
    "elif pred[0]==2:\n",
    "    print('fear')\n",
    "elif pred[0]==3:\n",
    "    print('joy')\n",
    "elif pred[0]==4:\n",
    "    print('surprise')\n",
    "elif pred[0]==5:\n",
    "    print('love') "
   ]
  },
  {
   "cell_type": "code",
   "execution_count": 104,
   "id": "2e155965",
   "metadata": {},
   "outputs": [
    {
     "name": "stdout",
     "output_type": "stream",
     "text": [
      "love\n"
     ]
    }
   ],
   "source": [
    "text = 'hossam love AlAhly SC '\n",
    "X = tfidf_vec.transform([text])\n",
    "pred = lr_model.predict(X)\n",
    "if pred[0]==0:\n",
    "    print('anger')\n",
    "elif pred[0]==1:\n",
    "    print('sadness')\n",
    "elif pred[0]==2:\n",
    "    print('fear')\n",
    "elif pred[0]==3:\n",
    "    print('joy')\n",
    "elif pred[0]==4:\n",
    "    print('surprise')\n",
    "elif pred[0]==5:\n",
    "    print('love') "
   ]
  },
  {
   "cell_type": "code",
   "execution_count": null,
   "id": "3ab666a5",
   "metadata": {},
   "outputs": [],
   "source": []
  }
 ],
 "metadata": {
  "kernelspec": {
   "display_name": "Python 3 (ipykernel)",
   "language": "python",
   "name": "python3"
  },
  "language_info": {
   "codemirror_mode": {
    "name": "ipython",
    "version": 3
   },
   "file_extension": ".py",
   "mimetype": "text/x-python",
   "name": "python",
   "nbconvert_exporter": "python",
   "pygments_lexer": "ipython3",
   "version": "3.9.13"
  }
 },
 "nbformat": 4,
 "nbformat_minor": 5
}
