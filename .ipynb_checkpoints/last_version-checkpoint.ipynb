{
 "cells": [
  {
   "cell_type": "markdown",
   "id": "502bd47a",
   "metadata": {},
   "source": [
    "\n",
    "<img style = \"width:100%; height: 80%;\" src = \"https://s01.sgp1.cdn.digitaloceanspaces.com/article/107360-byxhzxvmlb-1544009839.jpg\" />\n",
    "<body bgcolor = \"black\">\n",
    "<img style=\"width:80px; height:80px;float:left;\" src = \"https://i.pinimg.com/originals/90/c6/69/90c6698dc6f9e00bb32ffb3e21042474.gif\" /><img style=\"width:80px; height:80px;float:right;\" src = \"https://acegif.com/wp-content/gif/laughing-emoji-3.gif\" /><center><img style=\"width:auto; height:auto;\" src = \"https://raw.githubusercontent.com/AlikMon88/FillerStack-repo/ebb777f8f116d4a79e69c67705179b641328ed42/extra/transformers.gif\" /></center> \n",
    "<br><br><br>\n",
    "</body>"
   ]
  },
  {
   "cell_type": "markdown",
   "id": "0bf2d9c2",
   "metadata": {},
   "source": [
    "## <font color='#3f51b5'>1.Import Libraries </font> "
   ]
  },
  {
   "cell_type": "code",
   "execution_count": 50,
   "id": "c19558b4",
   "metadata": {},
   "outputs": [],
   "source": [
    "from string import punctuation\n",
    "from nltk.tokenize import word_tokenize\n",
    "from nltk.corpus import stopwords\n",
    "from nltk.stem import PorterStemmer\n",
    "from nltk.stem import SnowballStemmer\n",
    "from nltk.stem import WordNetLemmatizer\n",
    "######\n",
    "from sklearn.feature_extraction.text import CountVectorizer\n",
    "from sklearn.feature_extraction.text import TfidfVectorizer\n",
    "import pandas as pd \n",
    "import matplotlib.pyplot as plt\n",
    "from sklearn.naive_bayes import MultinomialNB\n",
    "from sklearn.metrics import precision_score, recall_score, accuracy_score,confusion_matrix,classification_report\n",
    "from sklearn.ensemble import RandomForestClassifier\n",
    "from sklearn import tree"
   ]
  },
  {
   "cell_type": "code",
   "execution_count": 51,
   "id": "e35f768b",
   "metadata": {},
   "outputs": [],
   "source": [
    "import warnings\n",
    "warnings.filterwarnings('ignore')"
   ]
  },
  {
   "cell_type": "markdown",
   "id": "5c4ec5ed",
   "metadata": {},
   "source": [
    "## <font color='#3f51b5'>2.Data Loading For Traning </font> "
   ]
  },
  {
   "cell_type": "code",
   "execution_count": 52,
   "id": "19a367e2",
   "metadata": {},
   "outputs": [
    {
     "name": "stdout",
     "output_type": "stream",
     "text": [
      "['i didnt feel humiliated', 'i can go from feeling so hopeless to so damned hopeful just from being around someone who cares and is awake', 'im grabbing a minute to post i feel greedy wrong', 'i am ever feeling nostalgic about the fireplace i will know that it is still on the property', 'i am feeling grouchy', 'ive been feeling a little burdened lately wasnt sure why that was', 'ive been taking or milligrams or times recommended amount and ive fallen asleep a lot faster but i also feel like so funny', 'i feel as confused about life as a teenager or as jaded as a year old man', 'i have been with petronas for years i feel that petronas has performed well and made a huge profit', 'i feel romantic too']\n",
      "**************************************************\n",
      "['sadness', 'sadness', 'anger', 'love', 'anger', 'sadness', 'surprise', 'fear', 'joy', 'love']\n"
     ]
    }
   ],
   "source": [
    "file = open('train.txt', 'r')\n",
    "x_train = []\n",
    "y_train = []\n",
    "for line in file:\n",
    "    l = line.split(';')\n",
    "    if len(l) >= 2:\n",
    "        x_train.append(l[0])\n",
    "        y_train.append(l[1].strip())\n",
    "file.close()\n",
    "\n",
    "print(x_train[0:10])\n",
    "print(50*'*')\n",
    "print(y_train[0:10])"
   ]
  },
  {
   "cell_type": "markdown",
   "id": "4a73ba41",
   "metadata": {},
   "source": [
    "## <font color='#3f51b5'>3. Data Loading For Testing </font> "
   ]
  },
  {
   "cell_type": "code",
   "execution_count": 53,
   "id": "a257aa3f",
   "metadata": {},
   "outputs": [
    {
     "name": "stdout",
     "output_type": "stream",
     "text": [
      "['sadness', 'sadness', 'sadness', 'joy', 'sadness', 'fear', 'anger', 'joy', 'joy', 'anger']\n",
      "**************************************************\n",
      "['im feeling rather rotten so im not very ambitious right now', 'im updating my blog because i feel shitty', 'i never make her separate from me because i don t ever want her to feel like i m ashamed with her', 'i left with my bouquet of red and yellow tulips under my arm feeling slightly more optimistic than when i arrived', 'i was feeling a little vain when i did this one', 'i cant walk into a shop anywhere where i do not feel uncomfortable', 'i felt anger when at the end of a telephone call', 'i explain why i clung to a relationship with a boy who was in many ways immature and uncommitted despite the excitement i should have been feeling for getting accepted into the masters program at the university of virginia', 'i like to have the same breathless feeling as a reader eager to see what will happen next', 'i jest i feel grumpy tired and pre menstrual which i probably am but then again its only been a week and im about as fit as a walrus on vacation for the summer']\n"
     ]
    }
   ],
   "source": [
    "file=open('test.txt','r')\n",
    "x_test=[]\n",
    "y_test=[]\n",
    "for line in file: \n",
    "    l=line.split(';')\n",
    "    x_test.append(l[0])\n",
    "    y_test.append(l[1].strip())\n",
    "print(y_test[0:10])\n",
    "print(50*'*')\n",
    "print(x_test[0:10])"
   ]
  },
  {
   "cell_type": "code",
   "execution_count": 54,
   "id": "c65b9f26",
   "metadata": {},
   "outputs": [],
   "source": [
    "x_data = x_train + x_test\n",
    "y_data = y_train + y_test"
   ]
  },
  {
   "cell_type": "code",
   "execution_count": 55,
   "id": "0c1bf5ee",
   "metadata": {},
   "outputs": [
    {
     "data": {
      "image/png": "[encoded data removed]",
      "text/plain": [
       "<Figure size 1400x800 with 1 Axes>"
      ]
     },
     "metadata": {},
     "output_type": "display_data"
    }
   ],
   "source": [
    "df = pd.DataFrame({'Sentiment': y_data})\n",
    "# Plot the pie chart\n",
    "plt.figure(figsize=(14,8))\n",
    "df['Sentiment'].value_counts().plot(kind = 'bar')\n",
    "plt.show()"
   ]
  },
  {
   "cell_type": "code",
   "execution_count": 56,
   "id": "511254e8",
   "metadata": {},
   "outputs": [
    {
     "name": "stdout",
     "output_type": "stream",
     "text": [
      "Original dataset shape Counter({'joy': 6761, 'sadness': 5797, 'anger': 2709, 'fear': 2373, 'love': 1641, 'surprise': 719})\n",
      "After undersample dataset shape Counter({'sadness': 6761, 'anger': 6761, 'love': 6761, 'surprise': 6761, 'fear': 6761, 'joy': 6761})\n"
     ]
    }
   ],
   "source": [
    "import imblearn\n",
    "from collections import Counter\n",
    "import numpy as np\n",
    "x_data=np.array(x_data)\n",
    "from imblearn.over_sampling import RandomOverSampler \n",
    "ROS = RandomOverSampler()\n",
    "print('Original dataset shape %s' % Counter(y_data))\n",
    "x_data, y_data = ROS.fit_resample(x_data.reshape(-1,1),y_data)\n",
    "print('After undersample dataset shape %s' % Counter(y_data))"
   ]
  },
  {
   "cell_type": "code",
   "execution_count": 57,
   "id": "21dc79a6",
   "metadata": {},
   "outputs": [
    {
     "data": {
      "image/png": "[encoded data removed]",
      "text/plain": [
       "<Figure size 1400x800 with 1 Axes>"
      ]
     },
     "metadata": {},
     "output_type": "display_data"
    }
   ],
   "source": [
    "df = pd.DataFrame({'Sentiment': y_data})\n",
    "# Plot the pie chart\n",
    "plt.figure(figsize=(14,8))\n",
    "df['Sentiment'].value_counts().plot(kind = 'bar')\n",
    "plt.show()"
   ]
  },
  {
   "cell_type": "markdown",
   "id": "a6e4549e",
   "metadata": {},
   "source": [
    "## <font color='#3f51b5'>4. Preprocessing </font> "
   ]
  },
  {
   "cell_type": "code",
   "execution_count": 58,
   "id": "207bf700",
   "metadata": {},
   "outputs": [],
   "source": [
    "class Preprocessing:\n",
    "    def __init__(self, data):\n",
    "        self.txt = data\n",
    "#*************************************#\n",
    "    def remove_punctuation(self):\n",
    "        punc = list(punctuation)\n",
    "        remove_pun = []\n",
    "        for sentence in self.txt:\n",
    "            new_sentence = ''\n",
    "            for char in sentence:\n",
    "                if char not in punc:\n",
    "                    new_sentence += char\n",
    "            remove_pun.append(new_sentence)\n",
    "        self.txt = remove_pun\n",
    "        #print(self.txt)\n",
    "#*************************************#  \n",
    "    def Word_Tokenization(self):\n",
    "        tokenized_sentences = []\n",
    "        for sentence in self.txt:\n",
    "            tokens = word_tokenize(sentence)\n",
    "            tokenized_sentences.append(tokens)\n",
    "        self.txt = tokenized_sentences\n",
    "        #print(self.txt)\n",
    "#*************************************#\n",
    "    def remove_stop_words(self):\n",
    "        stop_words = stopwords.words('english')\n",
    "        filtered_sentences = []\n",
    "        for sentence in self.txt:\n",
    "            filtered_words = []\n",
    "            for word in sentence:\n",
    "                if word.lower() not in stop_words:\n",
    "                    filtered_words.append(word.lower())\n",
    "            filtered_sentences.append(filtered_words)\n",
    "        self.txt = filtered_sentences\n",
    "        #print(self.txt)\n",
    "#*************************************#\n",
    "    def snowball_stemmer(self):\n",
    "        ps = SnowballStemmer(language='english')\n",
    "        snowball_sentences = []\n",
    "        for sentence in self.txt:\n",
    "            snowball_words = []\n",
    "            for word in sentence:\n",
    "                snowball_words.append(ps.stem(word))\n",
    "            snowball_sentences.append(snowball_words)\n",
    "        self.txt = snowball_sentences\n",
    "        #print(self.txt)\n",
    "#*************************************#\n",
    "    def lemmatization(self):\n",
    "        lemmatizer=WordNetLemmatizer()\n",
    "        lemma_sentences = []\n",
    "        for sentence in self.txt:\n",
    "            lemma_words = []\n",
    "            for word in sentence:\n",
    "                lemma_words.append(lemmatizer.lemmatize(word))\n",
    "            lemma_sentences.append(lemma_words)\n",
    "        self.txt = lemma_sentences\n",
    "        #print(self.txt)\n",
    "#*************************************#\n",
    "    def portstemmer_sentence(self):\n",
    "        ps = PorterStemmer()\n",
    "        portstemmer_sentences = []\n",
    "        for sentence in self.txt:\n",
    "            portstemmer_words = []\n",
    "            for word in sentence:\n",
    "                portstemmer_words.append(ps.stem(word))\n",
    "            portstemmer_sentences.append(portstemmer_words)\n",
    "        self.txt = portstemmer_sentences\n",
    "        #print(self.txt)\n",
    "#*************************************#\n",
    "    def preprocessing_end(self):\n",
    "        return self.txt\n",
    "#*************************************#\n",
    "    def return_data(self):\n",
    "        new=[]\n",
    "        for sentences in self.txt:\n",
    "            sentence = ' '.join(sentences)\n",
    "            new.append(sentence)\n",
    "        return new"
   ]
  },
  {
   "cell_type": "code",
   "execution_count": 59,
   "id": "ec8991c4",
   "metadata": {},
   "outputs": [],
   "source": [
    "pre_xtrain=Preprocessing(x_data)#constructor for x_data"
   ]
  },
  {
   "cell_type": "markdown",
   "id": "0f2b444d",
   "metadata": {},
   "source": [
    "## <font color='#3f51b5'>4.1-Remove puntuation </font> "
   ]
  },
  {
   "cell_type": "code",
   "execution_count": 60,
   "id": "18aed381",
   "metadata": {},
   "outputs": [],
   "source": [
    "pre_xtrain.remove_punctuation()"
   ]
  },
  {
   "cell_type": "markdown",
   "id": "75195d6e",
   "metadata": {},
   "source": [
    "## <font color='#3f51b5'>4.2-Word_Tokenization </font>  "
   ]
  },
  {
   "cell_type": "code",
   "execution_count": 61,
   "id": "22a15fd4",
   "metadata": {},
   "outputs": [],
   "source": [
    "pre_xtrain.Word_Tokenization()"
   ]
  },
  {
   "cell_type": "markdown",
   "id": "b1dc964c",
   "metadata": {},
   "source": [
    "## <font color='#3f51b5'>4.3-Remove_stop_words </font>  "
   ]
  },
  {
   "cell_type": "code",
   "execution_count": 62,
   "id": "42524da3",
   "metadata": {},
   "outputs": [],
   "source": [
    "pre_xtrain.remove_stop_words()"
   ]
  },
  {
   "cell_type": "markdown",
   "id": "4e2c317f",
   "metadata": {},
   "source": [
    "## <font color='#3f51b5'>4.4- Porter Stemmer ||Snowball Stemmer || lemmatizer </font>  \n"
   ]
  },
  {
   "cell_type": "code",
   "execution_count": 63,
   "id": "caccd715",
   "metadata": {
    "scrolled": true
   },
   "outputs": [],
   "source": [
    "#pre_xtrain.snowball_stemmer()\n",
    "pre_xtrain.lemmatization()\n",
    "#pre_xtrain.portstemmer_sentence()"
   ]
  },
  {
   "cell_type": "markdown",
   "id": "ad557c91",
   "metadata": {},
   "source": [
    "## <font color='red'>4.5-Final Result</font>"
   ]
  },
  {
   "cell_type": "code",
   "execution_count": 64,
   "id": "a766fcfb",
   "metadata": {},
   "outputs": [
    {
     "name": "stdout",
     "output_type": "stream",
     "text": [
      "[['didnt', 'feel', 'humiliated'], ['go', 'feeling', 'hopeless', 'damned', 'hopeful', 'around', 'someone', 'care', 'awake'], ['im', 'grabbing', 'minute', 'post', 'feel', 'greedy', 'wrong'], ['ever', 'feeling', 'nostalgic', 'fireplace', 'know', 'still', 'property'], ['feeling', 'grouchy']]\n"
     ]
    }
   ],
   "source": [
    "x_data=pre_xtrain.preprocessing_end()\n",
    "print(x_data[0:5])"
   ]
  },
  {
   "cell_type": "markdown",
   "id": "305e38dd",
   "metadata": {},
   "source": [
    "## <font color='#3f51b5'>5.1-Prepare For Vectorization  </font>  "
   ]
  },
  {
   "cell_type": "code",
   "execution_count": 65,
   "id": "433ce6aa",
   "metadata": {},
   "outputs": [
    {
     "name": "stdout",
     "output_type": "stream",
     "text": [
      "['didnt feel humiliated', 'go feeling hopeless damned hopeful around someone care awake', 'im grabbing minute post feel greedy wrong', 'ever feeling nostalgic fireplace know still property', 'feeling grouchy', 'ive feeling little burdened lately wasnt sure', 'ive taking milligram time recommended amount ive fallen asleep lot faster also feel like funny', 'feel confused life teenager jaded year old man', 'petronas year feel petronas performed well made huge profit', 'feel romantic']\n"
     ]
    }
   ],
   "source": [
    "vector=pre_xtrain.return_data()\n",
    "print(vector[0:10])"
   ]
  },
  {
   "cell_type": "markdown",
   "id": "36b7eae2",
   "metadata": {},
   "source": [
    "##  <font color='#008080'>5.2-TF-IDF(term frequency-inverse document frequency)</font>  "
   ]
  },
  {
   "cell_type": "code",
   "execution_count": 47,
   "id": "07f66bd3",
   "metadata": {},
   "outputs": [
    {
     "name": "stdout",
     "output_type": "stream",
     "text": [
      "(40566, 15081)\n"
     ]
    },
    {
     "data": {
      "text/html": [
       "<div>\n",
       "<style scoped>\n",
       "    .dataframe tbody tr th:only-of-type {\n",
       "        vertical-align: middle;\n",
       "    }\n",
       "\n",
       "    .dataframe tbody tr th {\n",
       "        vertical-align: top;\n",
       "    }\n",
       "\n",
       "    .dataframe thead th {\n",
       "        text-align: right;\n",
       "    }\n",
       "</style>\n",
       "<table border=\"1\" class=\"dataframe\">\n",
       "  <thead>\n",
       "    <tr style=\"text-align: right;\">\n",
       "      <th></th>\n",
       "      <th>aa</th>\n",
       "      <th>aaaaaaand</th>\n",
       "      <th>aaaaand</th>\n",
       "      <th>aaaah</th>\n",
       "      <th>aaaand</th>\n",
       "      <th>aac</th>\n",
       "      <th>aahhh</th>\n",
       "      <th>aaron</th>\n",
       "      <th>ab</th>\n",
       "      <th>abandon</th>\n",
       "      <th>...</th>\n",
       "      <th>zoned</th>\n",
       "      <th>zonisamide</th>\n",
       "      <th>zoo</th>\n",
       "      <th>zoom</th>\n",
       "      <th>zooming</th>\n",
       "      <th>zq</th>\n",
       "      <th>zucchini</th>\n",
       "      <th>zum</th>\n",
       "      <th>zumba</th>\n",
       "      <th>zz</th>\n",
       "    </tr>\n",
       "  </thead>\n",
       "  <tbody>\n",
       "    <tr>\n",
       "      <th>0</th>\n",
       "      <td>0.0</td>\n",
       "      <td>0.0</td>\n",
       "      <td>0.0</td>\n",
       "      <td>0.0</td>\n",
       "      <td>0.0</td>\n",
       "      <td>0.0</td>\n",
       "      <td>0.0</td>\n",
       "      <td>0.0</td>\n",
       "      <td>0.0</td>\n",
       "      <td>0.0</td>\n",
       "      <td>...</td>\n",
       "      <td>0.0</td>\n",
       "      <td>0.0</td>\n",
       "      <td>0.0</td>\n",
       "      <td>0.0</td>\n",
       "      <td>0.0</td>\n",
       "      <td>0.0</td>\n",
       "      <td>0.0</td>\n",
       "      <td>0.0</td>\n",
       "      <td>0.0</td>\n",
       "      <td>0.0</td>\n",
       "    </tr>\n",
       "    <tr>\n",
       "      <th>1</th>\n",
       "      <td>0.0</td>\n",
       "      <td>0.0</td>\n",
       "      <td>0.0</td>\n",
       "      <td>0.0</td>\n",
       "      <td>0.0</td>\n",
       "      <td>0.0</td>\n",
       "      <td>0.0</td>\n",
       "      <td>0.0</td>\n",
       "      <td>0.0</td>\n",
       "      <td>0.0</td>\n",
       "      <td>...</td>\n",
       "      <td>0.0</td>\n",
       "      <td>0.0</td>\n",
       "      <td>0.0</td>\n",
       "      <td>0.0</td>\n",
       "      <td>0.0</td>\n",
       "      <td>0.0</td>\n",
       "      <td>0.0</td>\n",
       "      <td>0.0</td>\n",
       "      <td>0.0</td>\n",
       "      <td>0.0</td>\n",
       "    </tr>\n",
       "    <tr>\n",
       "      <th>2</th>\n",
       "      <td>0.0</td>\n",
       "      <td>0.0</td>\n",
       "      <td>0.0</td>\n",
       "      <td>0.0</td>\n",
       "      <td>0.0</td>\n",
       "      <td>0.0</td>\n",
       "      <td>0.0</td>\n",
       "      <td>0.0</td>\n",
       "      <td>0.0</td>\n",
       "      <td>0.0</td>\n",
       "      <td>...</td>\n",
       "      <td>0.0</td>\n",
       "      <td>0.0</td>\n",
       "      <td>0.0</td>\n",
       "      <td>0.0</td>\n",
       "      <td>0.0</td>\n",
       "      <td>0.0</td>\n",
       "      <td>0.0</td>\n",
       "      <td>0.0</td>\n",
       "      <td>0.0</td>\n",
       "      <td>0.0</td>\n",
       "    </tr>\n",
       "    <tr>\n",
       "      <th>3</th>\n",
       "      <td>0.0</td>\n",
       "      <td>0.0</td>\n",
       "      <td>0.0</td>\n",
       "      <td>0.0</td>\n",
       "      <td>0.0</td>\n",
       "      <td>0.0</td>\n",
       "      <td>0.0</td>\n",
       "      <td>0.0</td>\n",
       "      <td>0.0</td>\n",
       "      <td>0.0</td>\n",
       "      <td>...</td>\n",
       "      <td>0.0</td>\n",
       "      <td>0.0</td>\n",
       "      <td>0.0</td>\n",
       "      <td>0.0</td>\n",
       "      <td>0.0</td>\n",
       "      <td>0.0</td>\n",
       "      <td>0.0</td>\n",
       "      <td>0.0</td>\n",
       "      <td>0.0</td>\n",
       "      <td>0.0</td>\n",
       "    </tr>\n",
       "    <tr>\n",
       "      <th>4</th>\n",
       "      <td>0.0</td>\n",
       "      <td>0.0</td>\n",
       "      <td>0.0</td>\n",
       "      <td>0.0</td>\n",
       "      <td>0.0</td>\n",
       "      <td>0.0</td>\n",
       "      <td>0.0</td>\n",
       "      <td>0.0</td>\n",
       "      <td>0.0</td>\n",
       "      <td>0.0</td>\n",
       "      <td>...</td>\n",
       "      <td>0.0</td>\n",
       "      <td>0.0</td>\n",
       "      <td>0.0</td>\n",
       "      <td>0.0</td>\n",
       "      <td>0.0</td>\n",
       "      <td>0.0</td>\n",
       "      <td>0.0</td>\n",
       "      <td>0.0</td>\n",
       "      <td>0.0</td>\n",
       "      <td>0.0</td>\n",
       "    </tr>\n",
       "  </tbody>\n",
       "</table>\n",
       "<p>5 rows × 15081 columns</p>\n",
       "</div>"
      ],
      "text/plain": [
       "    aa  aaaaaaand  aaaaand  aaaah  aaaand  aac  aahhh  aaron   ab  abandon  \\\n",
       "0  0.0        0.0      0.0    0.0     0.0  0.0    0.0    0.0  0.0      0.0   \n",
       "1  0.0        0.0      0.0    0.0     0.0  0.0    0.0    0.0  0.0      0.0   \n",
       "2  0.0        0.0      0.0    0.0     0.0  0.0    0.0    0.0  0.0      0.0   \n",
       "3  0.0        0.0      0.0    0.0     0.0  0.0    0.0    0.0  0.0      0.0   \n",
       "4  0.0        0.0      0.0    0.0     0.0  0.0    0.0    0.0  0.0      0.0   \n",
       "\n",
       "   ...  zoned  zonisamide  zoo  zoom  zooming   zq  zucchini  zum  zumba   zz  \n",
       "0  ...    0.0         0.0  0.0   0.0      0.0  0.0       0.0  0.0    0.0  0.0  \n",
       "1  ...    0.0         0.0  0.0   0.0      0.0  0.0       0.0  0.0    0.0  0.0  \n",
       "2  ...    0.0         0.0  0.0   0.0      0.0  0.0       0.0  0.0    0.0  0.0  \n",
       "3  ...    0.0         0.0  0.0   0.0      0.0  0.0       0.0  0.0    0.0  0.0  \n",
       "4  ...    0.0         0.0  0.0   0.0      0.0  0.0       0.0  0.0    0.0  0.0  \n",
       "\n",
       "[5 rows x 15081 columns]"
      ]
     },
     "execution_count": 47,
     "metadata": {},
     "output_type": "execute_result"
    }
   ],
   "source": [
    "tfidf_vec = TfidfVectorizer()\n",
    "tfidf_vec_fit = tfidf_vec.fit(vector)\n",
    "x_data = tfidf_vec.fit_transform(vector)\n",
    "print(x_data.toarray().shape)\n",
    "df = pd.DataFrame(x_data.toarray(),columns=tfidf_vec.get_feature_names_out())\n",
    "df.head()"
   ]
  },
  {
   "cell_type": "code",
   "execution_count": 44,
   "id": "6b25702d",
   "metadata": {},
   "outputs": [
    {
     "name": "stdout",
     "output_type": "stream",
     "text": [
      "[0.8077901438882693, 0.5686227563097458, 0.15538096551275762, 0.0, 0.0, 0.0, 0.0, 0.0, 0.0, 0.0, 0.0, 0.0, 0.0, 0.0, 0.0, 0.0, 0.0, 0.0, 0.0, 0.0]\n",
      "--------------------------------------------------\n",
      "[0.4863153647960624, 0.4289169059896124, 0.37899494090492414, 0.3660137470444595, 0.3131613132455092, 0.26509884437930653, 0.25227234671978244, 0.241257615456325, 0.10830718407586903, 0.0, 0.0, 0.0, 0.0, 0.0, 0.0, 0.0, 0.0, 0.0, 0.0, 0.0]\n",
      "--------------------------------------------------\n",
      "[0.5479794203931253, 0.41608482121228646, 0.4142311095816854, 0.41067665047545227, 0.37638446547377896, 0.19123736550478235, 0.09006806968149657, 0.0, 0.0, 0.0, 0.0, 0.0, 0.0, 0.0, 0.0, 0.0, 0.0, 0.0, 0.0, 0.0]\n",
      "--------------------------------------------------\n",
      "[0.5809859624295312, 0.5351709772274956, 0.36800180606700084, 0.32486198753739254, 0.25268107156798164, 0.23602922113387717, 0.12461612744774005, 0.0, 0.0, 0.0, 0.0, 0.0, 0.0, 0.0, 0.0, 0.0, 0.0, 0.0, 0.0, 0.0]\n",
      "--------------------------------------------------\n",
      "[0.9613807913911999, 0.27522168145702125, 0.0, 0.0, 0.0, 0.0, 0.0, 0.0, 0.0, 0.0, 0.0, 0.0, 0.0, 0.0, 0.0, 0.0, 0.0, 0.0, 0.0, 0.0]\n",
      "--------------------------------------------------\n"
     ]
    }
   ],
   "source": [
    "for i in range(5) : \n",
    "    print(sorted(list(df.iloc[i,:]),reverse=True)[:20])\n",
    "    print('--------------------------------------------------')"
   ]
  },
  {
   "cell_type": "code",
   "execution_count": 45,
   "id": "e3e55e4e",
   "metadata": {},
   "outputs": [],
   "source": [
    "encoding={'anger':0,'sadness':1,'fear':2,'joy':3,'surprise':4,'love':5}\n",
    "y_data=[encoding[x] for x in y_data]"
   ]
  },
  {
   "cell_type": "code",
   "execution_count": 46,
   "id": "865d47a9",
   "metadata": {},
   "outputs": [
    {
     "name": "stdout",
     "output_type": "stream",
     "text": [
      "[1, 1, 0, 5, 0, 1, 4, 2, 3, 5]\n"
     ]
    }
   ],
   "source": [
    "print(y_data[:10])"
   ]
  },
  {
   "cell_type": "code",
   "execution_count": 47,
   "id": "365e2c39",
   "metadata": {},
   "outputs": [
    {
     "data": {
      "text/plain": [
       "(8114, 15081)"
      ]
     },
     "execution_count": 47,
     "metadata": {},
     "output_type": "execute_result"
    }
   ],
   "source": [
    "from sklearn.model_selection import train_test_split\n",
    "\n",
    "data_tfidf_train, data_tfidf_test, label_train, label_test = train_test_split(x_data, y_data, test_size=0.2, random_state=42)\n",
    "#data_tfidf_train.shape\n",
    "data_tfidf_test.shape"
   ]
  },
  {
   "cell_type": "code",
   "execution_count": 48,
   "id": "35805230",
   "metadata": {},
   "outputs": [
    {
     "name": "stdout",
     "output_type": "stream",
     "text": [
      "Precision: 0.919 / Recall: 0.918 / Accuracy: 0.918\n",
      "[[1288   23   39   15   22   11]\n",
      " [  45 1199   38   20   25   23]\n",
      " [  16   17 1202    8   65    2]\n",
      " [  21   34   43 1089   55   96]\n",
      " [   0    0    0    7 1358    0]\n",
      " [   7    5    0   26    2 1313]]\n",
      "              precision    recall  f1-score   support\n",
      "\n",
      "           0       0.94      0.92      0.93      1398\n",
      "           1       0.94      0.89      0.91      1350\n",
      "           2       0.91      0.92      0.91      1310\n",
      "           3       0.93      0.81      0.87      1338\n",
      "           4       0.89      0.99      0.94      1365\n",
      "           5       0.91      0.97      0.94      1353\n",
      "\n",
      "    accuracy                           0.92      8114\n",
      "   macro avg       0.92      0.92      0.92      8114\n",
      "weighted avg       0.92      0.92      0.92      8114\n",
      "\n"
     ]
    }
   ],
   "source": [
    "spam_detect_model1 = MultinomialNB().fit(data_tfidf_train, label_train)\n",
    "pred_test_MNB = spam_detect_model1.predict(data_tfidf_test)\n",
    "precision = precision_score(label_test, pred_test_MNB, average='weighted')\n",
    "recall = recall_score(label_test, pred_test_MNB, average='weighted')\n",
    "accuracy = accuracy_score(label_test, pred_test_MNB)\n",
    "print('Precision: {} / Recall: {} / Accuracy: {}'.format(round(precision, 3), round(recall, 3), round(accuracy, 3)))\n",
    "print(confusion_matrix(label_test,pred_test_MNB))\n",
    "print (classification_report(label_test, pred_test_MNB))"
   ]
  },
  {
   "cell_type": "code",
   "execution_count": 49,
   "id": "2cb709a8",
   "metadata": {},
   "outputs": [
    {
     "name": "stdout",
     "output_type": "stream",
     "text": [
      "Precision: 0.954 / Recall: 0.953 / Accuracy: 0.953\n",
      "[[1375    5    9    2    3    4]\n",
      " [  47 1230   32   23    6   12]\n",
      " [   9    8 1274    2   15    2]\n",
      " [  16   48   15 1151   27   81]\n",
      " [   0    0    3    0 1362    0]\n",
      " [   3    2    0    7    0 1341]]\n",
      "              precision    recall  f1-score   support\n",
      "\n",
      "           0       0.95      0.98      0.97      1398\n",
      "           1       0.95      0.91      0.93      1350\n",
      "           2       0.96      0.97      0.96      1310\n",
      "           3       0.97      0.86      0.91      1338\n",
      "           4       0.96      1.00      0.98      1365\n",
      "           5       0.93      0.99      0.96      1353\n",
      "\n",
      "    accuracy                           0.95      8114\n",
      "   macro avg       0.95      0.95      0.95      8114\n",
      "weighted avg       0.95      0.95      0.95      8114\n",
      "\n"
     ]
    }
   ],
   "source": [
    "spam_detect_model2 = tree.DecisionTreeClassifier().fit(data_tfidf_train, label_train)\n",
    "pred_test_MNB = spam_detect_model2.predict(data_tfidf_test)\n",
    "precision = precision_score(label_test, pred_test_MNB,average='weighted')\n",
    "recall = recall_score(label_test, pred_test_MNB,average='weighted')\n",
    "accuracy = accuracy_score(label_test, pred_test_MNB)\n",
    "print('Precision: {} / Recall: {} / Accuracy: {}'.format(round(precision, 3), round(recall, 3), round(accuracy, 3)))\n",
    "print(confusion_matrix(label_test,pred_test_MNB))\n",
    "print (classification_report(label_test, pred_test_MNB))"
   ]
  },
  {
   "cell_type": "code",
   "execution_count": 50,
   "id": "59847314",
   "metadata": {},
   "outputs": [
    {
     "name": "stdout",
     "output_type": "stream",
     "text": [
      "Precision: 0.963 / Recall: 0.962 / Accuracy: 0.962\n",
      "[[1383    3    5    1    3    3]\n",
      " [  43 1231   27   29    7   13]\n",
      " [   6    5 1280    4   13    2]\n",
      " [   8   19   12 1202   21   76]\n",
      " [   0    0    3    0 1362    0]\n",
      " [   0    0    0    2    0 1351]]\n",
      "              precision    recall  f1-score   support\n",
      "\n",
      "           0       0.96      0.99      0.97      1398\n",
      "           1       0.98      0.91      0.94      1350\n",
      "           2       0.96      0.98      0.97      1310\n",
      "           3       0.97      0.90      0.93      1338\n",
      "           4       0.97      1.00      0.98      1365\n",
      "           5       0.93      1.00      0.97      1353\n",
      "\n",
      "    accuracy                           0.96      8114\n",
      "   macro avg       0.96      0.96      0.96      8114\n",
      "weighted avg       0.96      0.96      0.96      8114\n",
      "\n"
     ]
    }
   ],
   "source": [
    "spam_detect_model3 = RandomForestClassifier().fit(data_tfidf_train, label_train)\n",
    "pred_test_MNB = spam_detect_model3.predict(data_tfidf_test)\n",
    "precision = precision_score(label_test, pred_test_MNB,average='weighted')\n",
    "recall = recall_score(label_test, pred_test_MNB,average='weighted')\n",
    "accuracy = accuracy_score(label_test, pred_test_MNB)\n",
    "print('Precision: {} / Recall: {} / Accuracy: {}'.format(round(precision, 3), round(recall, 3), round(accuracy, 3)))\n",
    "print(confusion_matrix(label_test,pred_test_MNB))\n",
    "print (classification_report(label_test, pred_test_MNB))"
   ]
  },
  {
   "cell_type": "code",
   "execution_count": 51,
   "id": "ba9916a0",
   "metadata": {},
   "outputs": [
    {
     "name": "stdout",
     "output_type": "stream",
     "text": [
      "Precision: 0.956 / Recall: 0.956 / Accuracy: 0.956\n",
      "[[1346   11   25   11    1    4]\n",
      " [  36 1259   25   16    4   10]\n",
      " [  15    6 1242    9   36    2]\n",
      " [   6   22   10 1209   20   71]\n",
      " [   0    0    3    0 1362    0]\n",
      " [   4    0    1    9    0 1339]]\n",
      "              precision    recall  f1-score   support\n",
      "\n",
      "           0       0.96      0.96      0.96      1398\n",
      "           1       0.97      0.93      0.95      1350\n",
      "           2       0.95      0.95      0.95      1310\n",
      "           3       0.96      0.90      0.93      1338\n",
      "           4       0.96      1.00      0.98      1365\n",
      "           5       0.94      0.99      0.96      1353\n",
      "\n",
      "    accuracy                           0.96      8114\n",
      "   macro avg       0.96      0.96      0.96      8114\n",
      "weighted avg       0.96      0.96      0.96      8114\n",
      "\n"
     ]
    }
   ],
   "source": [
    "from sklearn.linear_model import LogisticRegression\n",
    "\n",
    "lr_model = LogisticRegression(random_state=42)\n",
    "lr_model.fit(data_tfidf_train, label_train)\n",
    "\n",
    "# Use the trained model to make predictions on the test data\n",
    "pred_test_lr = lr_model.predict(data_tfidf_test)\n",
    "\n",
    "# Evaluate the performance of the model using precision, recall, and accuracy\n",
    "precision = precision_score(label_test, pred_test_lr, average='weighted')\n",
    "recall = recall_score(label_test, pred_test_lr, average='weighted')\n",
    "accuracy = accuracy_score(label_test, pred_test_lr)\n",
    "\n",
    "# Print the evaluation metrics\n",
    "print('Precision: {} / Recall: {} / Accuracy: {}'.format(round(precision, 3), round(recall, 3), round(accuracy, 3)))\n",
    "print(confusion_matrix(label_test, pred_test_lr))\n",
    "print(classification_report(label_test, pred_test_lr))"
   ]
  },
  {
   "cell_type": "code",
   "execution_count": 52,
   "id": "db13174d",
   "metadata": {},
   "outputs": [
    {
     "name": "stdout",
     "output_type": "stream",
     "text": [
      "Precision: 0.968 / Recall: 0.968 / Accuracy: 0.968\n",
      "[[1354   11    6   24    1    2]\n",
      " [  27 1268   17   30    3    5]\n",
      " [   4    5 1281   11    7    2]\n",
      " [   4   22    9 1250    7   46]\n",
      " [   0    0    3    0 1362    0]\n",
      " [   3    0    0   10    0 1340]]\n",
      "              precision    recall  f1-score   support\n",
      "\n",
      "           0       0.97      0.97      0.97      1398\n",
      "           1       0.97      0.94      0.95      1350\n",
      "           2       0.97      0.98      0.98      1310\n",
      "           3       0.94      0.93      0.94      1338\n",
      "           4       0.99      1.00      0.99      1365\n",
      "           5       0.96      0.99      0.98      1353\n",
      "\n",
      "    accuracy                           0.97      8114\n",
      "   macro avg       0.97      0.97      0.97      8114\n",
      "weighted avg       0.97      0.97      0.97      8114\n",
      "\n"
     ]
    }
   ],
   "source": [
    "from sklearn.svm import SVC\n",
    "\n",
    "# Split the data into training and test sets\n",
    "data_tfidf_train, data_tfidf_test, label_train, label_test = train_test_split(x_data, y_data, test_size=0.2, random_state=42)\n",
    "\n",
    "# Train an SVM model on the training data\n",
    "svm_model = SVC(random_state=42)\n",
    "svm_model.fit(data_tfidf_train, label_train)\n",
    "\n",
    "# Use the trained model to make predictions on the test data\n",
    "pred_test_svm = svm_model.predict(data_tfidf_test)\n",
    "\n",
    "# Evaluate the performance of the model using precision, recall, and accuracy\n",
    "precision = precision_score(label_test, pred_test_svm, average='weighted')\n",
    "recall = recall_score(label_test, pred_test_svm, average='weighted')\n",
    "accuracy = accuracy_score(label_test, pred_test_svm)\n",
    "\n",
    "# Print the evaluation metrics\n",
    "print('Precision: {} / Recall: {} / Accuracy: {}'.format(round(precision, 3), round(recall, 3), round(accuracy, 3)))\n",
    "print(confusion_matrix(label_test, pred_test_svm))\n",
    "print(classification_report(label_test, pred_test_svm))"
   ]
  },
  {
   "cell_type": "code",
   "execution_count": 53,
   "id": "ac03bd94",
   "metadata": {},
   "outputs": [
    {
     "name": "stdout",
     "output_type": "stream",
     "text": [
      "Precision: 0.85 / Recall: 0.847 / Accuracy: 0.847\n",
      "[[1192   48   49   19   39   51]\n",
      " [  80 1082   68   27   48   45]\n",
      " [  70   44 1096   16   56   28]\n",
      " [  76   71   97  917   59  118]\n",
      " [   3    0    6    3 1353    0]\n",
      " [  35   10   26   32   15 1235]]\n",
      "              precision    recall  f1-score   support\n",
      "\n",
      "           0       0.82      0.85      0.84      1398\n",
      "           1       0.86      0.80      0.83      1350\n",
      "           2       0.82      0.84      0.83      1310\n",
      "           3       0.90      0.69      0.78      1338\n",
      "           4       0.86      0.99      0.92      1365\n",
      "           5       0.84      0.91      0.87      1353\n",
      "\n",
      "    accuracy                           0.85      8114\n",
      "   macro avg       0.85      0.85      0.84      8114\n",
      "weighted avg       0.85      0.85      0.84      8114\n",
      "\n"
     ]
    }
   ],
   "source": [
    "from sklearn.neighbors import KNeighborsClassifier\n",
    "\n",
    "# Split the data into training and test sets\n",
    "data_tfidf_train, data_tfidf_test, label_train, label_test = train_test_split(x_data, y_data, test_size=0.2, random_state=42)\n",
    "\n",
    "# Train a KNN model on the training data\n",
    "knn_model = KNeighborsClassifier()\n",
    "knn_model.fit(data_tfidf_train, label_train)\n",
    "\n",
    "# Use the trained model to make predictions on the test data\n",
    "pred_test_knn = knn_model.predict(data_tfidf_test)\n",
    "\n",
    "# Evaluate the performance of the model using precision, recall, and accuracy\n",
    "precision = precision_score(label_test, pred_test_knn, average='weighted')\n",
    "recall = recall_score(label_test, pred_test_knn, average='weighted')\n",
    "accuracy = accuracy_score(label_test, pred_test_knn)\n",
    "\n",
    "# Print the evaluation metrics\n",
    "print('Precision: {} / Recall: {} / Accuracy: {}'.format(round(precision, 3), round(recall, 3), round(accuracy, 3)))\n",
    "print(confusion_matrix(label_test, pred_test_knn))\n",
    "print(classification_report(label_test, pred_test_knn))"
   ]
  },
  {
   "cell_type": "code",
   "execution_count": 54,
   "id": "3f2adbef",
   "metadata": {},
   "outputs": [
    {
     "name": "stdout",
     "output_type": "stream",
     "text": [
      "Precision: 0.942 / Recall: 0.941 / Accuracy: 0.941\n",
      "[[1316    9   21   45    3    4]\n",
      " [  46 1216   32   36    8   12]\n",
      " [  17    7 1203   20   63    0]\n",
      " [   6   16    9 1191   30   86]\n",
      " [   0    0    0    0 1365    0]\n",
      " [   2    0    0    5    0 1346]]\n",
      "              precision    recall  f1-score   support\n",
      "\n",
      "           0       0.95      0.94      0.95      1398\n",
      "           1       0.97      0.90      0.94      1350\n",
      "           2       0.95      0.92      0.93      1310\n",
      "           3       0.92      0.89      0.90      1338\n",
      "           4       0.93      1.00      0.96      1365\n",
      "           5       0.93      0.99      0.96      1353\n",
      "\n",
      "    accuracy                           0.94      8114\n",
      "   macro avg       0.94      0.94      0.94      8114\n",
      "weighted avg       0.94      0.94      0.94      8114\n",
      "\n"
     ]
    }
   ],
   "source": [
    "from xgboost import XGBClassifier\n",
    "\n",
    "# Split the data into training and test sets\n",
    "data_tfidf_train, data_tfidf_test, label_train, label_test = train_test_split(x_data, y_data, test_size=0.2, random_state=42)\n",
    "# Train an XGBClassifier model on the training data\n",
    "xgb_model = XGBClassifier(random_state=42)\n",
    "xgb_model.fit(data_tfidf_train, label_train)\n",
    "\n",
    "# Use the trained model to make predictions on the test data\n",
    "pred_test_xgb = xgb_model.predict(data_tfidf_test)\n",
    "\n",
    "# Evaluate the performance of the model using precision, recall, and accuracy\n",
    "precision = precision_score(label_test, pred_test_xgb, average='weighted')\n",
    "recall = recall_score(label_test, pred_test_xgb, average='weighted')\n",
    "accuracy = accuracy_score(label_test, pred_test_xgb)\n",
    "\n",
    "# Print the evaluation metrics\n",
    "print('Precision: {} / Recall: {} / Accuracy: {}'.format(round(precision, 3), round(recall, 3), round(accuracy, 3)))\n",
    "print(confusion_matrix(label_test, pred_test_xgb))\n",
    "print(classification_report(label_test, pred_test_xgb))"
   ]
  },
  {
   "cell_type": "code",
   "execution_count": 55,
   "id": "23217fe6",
   "metadata": {},
   "outputs": [
    {
     "data": {
      "text/plain": [
       "<AxesSubplot:xlabel='Algorithm', ylabel='Accuracy Score'>"
      ]
     },
     "execution_count": 55,
     "metadata": {},
     "output_type": "execute_result"
    },
    {
     "data": {
      "image/png": "[encoded data removed]",
      "text/plain": [
       "<Figure size 1500x800 with 1 Axes>"
      ]
     },
     "metadata": {},
     "output_type": "display_data"
    }
   ],
   "source": [
    "svm_score = svm_model.score(data_tfidf_test, label_test)\n",
    "knn_score = knn_model.score(data_tfidf_test, label_test)\n",
    "xgb_score = xgb_model.score(data_tfidf_test, label_test)\n",
    "lr_score = lr_model.score(data_tfidf_test, label_test)\n",
    "nb_score = spam_detect_model1.score(data_tfidf_test, label_test)\n",
    "dt_score = spam_detect_model2.score(data_tfidf_test, label_test)\n",
    "rf_score = spam_detect_model3.score(data_tfidf_test, label_test)\n",
    "import pandas as pd\n",
    "import seaborn as sns\n",
    "import matplotlib.pyplot as plt\n",
    "\n",
    "# Create a dataframe with the algorithm names and their scores\n",
    "algorithms = ['nb','dt','rf','Logistic Regression', 'SVM', 'KNN', 'XGBoost']\n",
    "scores = [nb_score,dt_score,rf_score,lr_score,svm_score, knn_score,xgb_score]\n",
    "df = pd.DataFrame({'Algorithm': algorithms, 'Accuracy Score': scores})\n",
    "\n",
    "# Set the figure size and labels\n",
    "sns.set(rc={'figure.figsize':(15,8)})\n",
    "plt.xlabel(\"Algorithms\")\n",
    "plt.ylabel(\"Accuracy Score\")\n",
    "# Create the barplot\n",
    "sns.barplot(x='Algorithm', y='Accuracy Score', data=df)"
   ]
  },
  {
   "cell_type": "code",
   "execution_count": 56,
   "id": "aa03a5b2",
   "metadata": {},
   "outputs": [
    {
     "name": "stdout",
     "output_type": "stream",
     "text": [
      "anger\n"
     ]
    }
   ],
   "source": [
    "text = 'hossam feel dissatisfied'\n",
    "X = tfidf_vec.transform([text])\n",
    "pred = svm_model.predict(X)\n",
    "if pred[0]==0:\n",
    "    print('anger')\n",
    "elif pred[0]==1:\n",
    "    print('sadness')\n",
    "elif pred[0]==2:\n",
    "    print('fear')\n",
    "elif pred[0]==3:\n",
    "    print('joy')\n",
    "elif pred[0]==4:\n",
    "    print('surprise')\n",
    "elif pred[0]==5:\n",
    "    print('love') "
   ]
  },
  {
   "cell_type": "code",
   "execution_count": 57,
   "id": "6fe32b8b",
   "metadata": {},
   "outputs": [
    {
     "name": "stdout",
     "output_type": "stream",
     "text": [
      "sadness\n"
     ]
    }
   ],
   "source": [
    "text = 'i feel disappointed'\n",
    "X = tfidf_vec.transform([text])\n",
    "pred = svm_model.predict(X)\n",
    "if pred[0]==0:\n",
    "    print('anger')\n",
    "elif pred[0]==1:\n",
    "    print('sadness')\n",
    "elif pred[0]==2:\n",
    "    print('fear')\n",
    "elif pred[0]==3:\n",
    "    print('joy')\n",
    "elif pred[0]==4:\n",
    "    print('surprise')\n",
    "elif pred[0]==5:\n",
    "    print('love') "
   ]
  },
  {
   "cell_type": "code",
   "execution_count": 58,
   "id": "9a9d423f",
   "metadata": {},
   "outputs": [
    {
     "name": "stdout",
     "output_type": "stream",
     "text": [
      "fear\n"
     ]
    }
   ],
   "source": [
    "text = ' I feel terrified '\n",
    "X = tfidf_vec.transform([text])\n",
    "pred = svm_model.predict(X)\n",
    "if pred[0]==0:\n",
    "    print('anger')\n",
    "elif pred[0]==1:\n",
    "    print('sadness')\n",
    "elif pred[0]==2:\n",
    "    print('fear')\n",
    "elif pred[0]==3:\n",
    "    print('joy')\n",
    "elif pred[0]==4:\n",
    "    print('surprise')\n",
    "elif pred[0]==5:\n",
    "    print('love') "
   ]
  },
  {
   "cell_type": "code",
   "execution_count": 59,
   "id": "86925c15",
   "metadata": {},
   "outputs": [
    {
     "name": "stdout",
     "output_type": "stream",
     "text": [
      "joy\n"
     ]
    }
   ],
   "source": [
    "text = 'i playing football with mohamed  '\n",
    "X = tfidf_vec.transform([text])\n",
    "pred = svm_model.predict(X)\n",
    "if pred[0]==0:\n",
    "    print('anger')\n",
    "elif pred[0]==1:\n",
    "    print('sadness')\n",
    "elif pred[0]==2:\n",
    "    print('fear')\n",
    "elif pred[0]==3:\n",
    "    print('joy')\n",
    "elif pred[0]==4:\n",
    "    print('surprise')\n",
    "elif pred[0]==5:\n",
    "    print('love') "
   ]
  },
  {
   "cell_type": "code",
   "execution_count": 60,
   "id": "32b59a7f",
   "metadata": {},
   "outputs": [
    {
     "name": "stdout",
     "output_type": "stream",
     "text": [
      "surprise\n"
     ]
    }
   ],
   "source": [
    "text = 'i m shocked my son pass the exam'\n",
    "X = tfidf_vec.transform([text])\n",
    "pred = svm_model.predict(X)\n",
    "if pred[0]==0:\n",
    "    print('anger')\n",
    "elif pred[0]==1:\n",
    "    print('sadness')\n",
    "elif pred[0]==2:\n",
    "    print('fear')\n",
    "elif pred[0]==3:\n",
    "    print('joy')\n",
    "elif pred[0]==4:\n",
    "    print('surprise')\n",
    "elif pred[0]==5:\n",
    "    print('love') "
   ]
  },
  {
   "cell_type": "code",
   "execution_count": 61,
   "id": "973a9f5a",
   "metadata": {},
   "outputs": [
    {
     "name": "stdout",
     "output_type": "stream",
     "text": [
      "joy\n"
     ]
    }
   ],
   "source": [
    "text = 'hossam love AlAhly SC '\n",
    "X = tfidf_vec.transform([text])\n",
    "pred = svm_model.predict(X)\n",
    "if pred[0]==0:\n",
    "    print('anger')\n",
    "elif pred[0]==1:\n",
    "    print('sadness')\n",
    "elif pred[0]==2:\n",
    "    print('fear')\n",
    "elif pred[0]==3:\n",
    "    print('joy')\n",
    "elif pred[0]==4:\n",
    "    print('surprise')\n",
    "elif pred[0]==5:\n",
    "    print('love') "
   ]
  },
  {
   "cell_type": "code",
   "execution_count": 3,
   "id": "d8d776f0",
   "metadata": {},
   "outputs": [],
   "source": [
    "#with open('vectorizer.pkl', 'wb') as f:\n",
    "  #  pickle.dump(tfidf_vec, f)"
   ]
  },
  {
   "cell_type": "code",
   "execution_count": 26,
   "id": "73e8ad72",
   "metadata": {},
   "outputs": [
    {
     "name": "stdout",
     "output_type": "stream",
     "text": [
      "3\n"
     ]
    }
   ],
   "source": [
    "import pickle\n",
    "\n",
    "# Save the trained model\n",
    "#with open('lr_model.pkl', 'wb') as f:\n",
    "#    pickle.dump(lr_model, f)\n",
    "\n",
    "# Load the saved model and make a prediction\n",
    "with open('lr_model.pkl', 'rb') as f:\n",
    "    saved_model = pickle.load(f)\n",
    "\n",
    "# Use the saved model to make a prediction\n",
    "text = 'This is a positive review'\n",
    "text_vectorized = tfidf_vec.transform([text])\n",
    "pred = saved_model.predict(text_vectorized)[0]\n",
    "print(pred)"
   ]
  },
  {
   "cell_type": "code",
   "execution_count": 62,
   "id": "9745cecf",
   "metadata": {},
   "outputs": [],
   "source": [
    "#from flask import Flask, request, jsonify\n",
    "#import pickle\n",
    "\n",
    "# Load the saved model and vectorizer\n",
    "#with open('lr_model.pkl', 'rb') as f:\n",
    "#    saved_model = pickle.load(f)\n",
    "#with open('vectorizer.pkl', 'rb') as f:\n",
    "#    saved_vectorizer = pickle.load(f)\n",
    "\n",
    "# Define the Flask app\n",
    "#app = Flask(__name__)\n",
    "\n",
    "# Define the predict route\n",
    "#@app.route('/predict', methods=['POST'])\n",
    "#def predict():\n",
    "    # Get the text from the POST request\n",
    "#    text = request.json['text']\n",
    "\n",
    "    # Vectorize the text using the saved vectorizer\n",
    "#    text_vectorized = saved_vectorizer.transform([text])\n",
    "\n",
    "    # Make the prediction using the saved model\n",
    "#    prediction = saved_model.predict(text_vectorized)[0]\n",
    "\n",
    "    # Return the prediction\n",
    "#    return jsonify({'prediction': prediction})\n",
    "\n",
    "#if __name__ == '__main__':\n",
    "#    app.run(debug=True)"
   ]
  },
  {
   "cell_type": "code",
   "execution_count": null,
   "id": "966f02d6",
   "metadata": {},
   "outputs": [],
   "source": []
  }
 ],
 "metadata": {
  "kernelspec": {
   "display_name": "Python 3 (ipykernel)",
   "language": "python",
   "name": "python3"
  },
  "language_info": {
   "codemirror_mode": {
    "name": "ipython",
    "version": 3
   },
   "file_extension": ".py",
   "mimetype": "text/x-python",
   "name": "python",
   "nbconvert_exporter": "python",
   "pygments_lexer": "ipython3",
   "version": "3.9.13"
  }
 },
 "nbformat": 4,
 "nbformat_minor": 5
}
